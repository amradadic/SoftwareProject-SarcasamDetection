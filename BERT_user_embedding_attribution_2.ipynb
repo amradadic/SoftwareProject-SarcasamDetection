{
  "cells": [
    {
      "cell_type": "markdown",
      "metadata": {
        "id": "view-in-github",
        "colab_type": "text"
      },
      "source": [
        "<a href=\"https://colab.research.google.com/github/amradadic/SoftwareProject-SarcasamDetection/blob/SPIRS/BERT_user_embedding_attribution_2.ipynb\" target=\"_parent\"><img src=\"https://colab.research.google.com/assets/colab-badge.svg\" alt=\"Open In Colab\"/></a>"
      ]
    },
    {
      "cell_type": "markdown",
      "source": [
        "**BERT user embedding attribution** prediction"
      ],
      "metadata": {
        "id": "yHc2Il905AaP"
      }
    },
    {
      "cell_type": "markdown",
      "source": [
        "**Change all paths before executing notebook**"
      ],
      "metadata": {
        "id": "-mb9ci4i5ImM"
      }
    },
    {
      "cell_type": "code",
      "execution_count": null,
      "metadata": {
        "id": "Zmua-679Ir05",
        "colab": {
          "base_uri": "https://localhost:8080/"
        },
        "outputId": "0eb67a11-57d5-4ca0-edbe-97f587c0c6e2"
      },
      "outputs": [
        {
          "output_type": "stream",
          "name": "stdout",
          "text": [
            "/bin/bash: line 0: fg: no job control\n",
            "Looking in indexes: https://pypi.org/simple, https://us-python.pkg.dev/colab-wheels/public/simple/\n",
            "Requirement already satisfied: rpy2 in /usr/local/lib/python3.7/dist-packages (3.4.5)\n",
            "Requirement already satisfied: jinja2 in /usr/local/lib/python3.7/dist-packages (from rpy2) (2.11.3)\n",
            "Requirement already satisfied: tzlocal in /usr/local/lib/python3.7/dist-packages (from rpy2) (1.5.1)\n",
            "Requirement already satisfied: cffi>=1.10.0 in /usr/local/lib/python3.7/dist-packages (from rpy2) (1.15.1)\n",
            "Requirement already satisfied: pytz in /usr/local/lib/python3.7/dist-packages (from rpy2) (2022.1)\n",
            "Requirement already satisfied: pycparser in /usr/local/lib/python3.7/dist-packages (from cffi>=1.10.0->rpy2) (2.21)\n",
            "Requirement already satisfied: MarkupSafe>=0.23 in /usr/local/lib/python3.7/dist-packages (from jinja2->rpy2) (2.0.1)\n",
            "/bin/bash: line 0: fg: no job control\n",
            "Drive already mounted at /content/drive; to attempt to forcibly remount, call drive.mount(\"/content/drive\", force_remount=True).\n",
            "/bin/bash: line 0: fg: no job control\n",
            "Looking in indexes: https://pypi.org/simple, https://us-python.pkg.dev/colab-wheels/public/simple/\n",
            "Requirement already satisfied: pickle5 in /usr/local/lib/python3.7/dist-packages (0.0.12)\n"
          ]
        }
      ],
      "source": [
        "import torch\n",
        "torch.cuda.empty_cache()\n",
        "\n",
        "!%%cache\n",
        "!pip install rpy2\n",
        "\n",
        "!%%cache\n",
        "from google.colab import drive\n",
        "\n",
        "drive.mount('/content/drive')\n",
        "\n",
        "import pandas as pd\n",
        "from sklearn import metrics as m\n",
        "\n",
        "!%%cache\n",
        "!pip3 install pickle5\n",
        "import pickle5 as pickle"
      ]
    },
    {
      "cell_type": "markdown",
      "source": [
        "## **Data loading and preprocessing**"
      ],
      "metadata": {
        "id": "igEo8A-Sruyc"
      }
    },
    {
      "cell_type": "code",
      "source": [
        "x_train = pd.read_csv('drive/MyDrive/SP/Data/x_train.csv') #when not on colab change path to 'split/x_train.csv'\n",
        "y_train = pd.read_csv('drive/MyDrive/SP/Data/y_train.csv') #'split/y_train.csv'\n",
        "\n",
        "x_test = pd.read_csv('drive/MyDrive/SP/Data/x_test.csv') #'split/x_test.csv'\n",
        "y_test = pd.read_csv('drive/MyDrive/SP/Data/y_test.csv') #'split/y_test.csv'\n",
        "\n",
        "x_val = pd.read_csv('drive/MyDrive/SP/Data/x_val.csv') #'split/x_val.csv'\n",
        "y_val = pd.read_csv('drive/MyDrive/SP/Data/y_val.csv') #'split/y_val.csv'\n",
        "\n",
        "df_train = pd.concat([x_train, y_train], axis=1, join='inner')\n",
        "df_test = pd.concat([x_test, y_test], axis=1, join='inner')\n",
        "df_val = pd.concat([x_val, y_val], axis=1, join='inner')\n",
        "\n",
        "df_train.shape, df_val.shape, df_test.shape\n"
      ],
      "metadata": {
        "id": "0I08dv6kKqPj",
        "colab": {
          "base_uri": "https://localhost:8080/"
        },
        "outputId": "b0de47ce-26ef-49a2-dbb6-8798bf10102b"
      },
      "execution_count": null,
      "outputs": [
        {
          "output_type": "execute_result",
          "data": {
            "text/plain": [
              "((16308, 17), (2878, 17), (4797, 17))"
            ]
          },
          "metadata": {},
          "execution_count": 2
        }
      ]
    },
    {
      "cell_type": "code",
      "source": [
        "def modify_df(df):\n",
        "  df = df.dropna(subset = ['sar_text'])\n",
        "  df = df.reset_index(drop=True)\n",
        "  #add user_id\n",
        "  for i in range(len(df['sar_user'])):\n",
        "    user = df['sar_user'][i].split('|')\n",
        "    df['sar_user'][i] = int(user[-1])\n",
        "\n",
        "  cols = ['obl_text', 'eli_text', 'cue_text', 'obl_id',\t'eli_id',\t'perspective', 'cue_user', 'obl_user',\t'eli_user', 'idx',\t'pattern',\t'person',\t'cue_id'\t]\n",
        "  df.drop(cols, axis = 1, inplace = True)\n",
        "  df.rename(columns = {'sar_user':'user_id'}, inplace = True)\n",
        "  print(type(df))\n",
        "  return df"
      ],
      "metadata": {
        "id": "EGDlJGuBZelo"
      },
      "execution_count": null,
      "outputs": []
    },
    {
      "cell_type": "code",
      "source": [
        "df_train = modify_df(df_train)\n",
        "df_test = modify_df(df_test)\n",
        "df_val = modify_df(df_val)\n",
        "df_val.head()"
      ],
      "metadata": {
        "colab": {
          "base_uri": "https://localhost:8080/",
          "height": 345
        },
        "id": "K9BroZUeZv0b",
        "outputId": "e6cce66f-a83d-43d4-c866-1907171fdd9b"
      },
      "execution_count": null,
      "outputs": [
        {
          "output_type": "stream",
          "name": "stderr",
          "text": [
            "/usr/local/lib/python3.7/dist-packages/ipykernel_launcher.py:7: SettingWithCopyWarning: \n",
            "A value is trying to be set on a copy of a slice from a DataFrame\n",
            "\n",
            "See the caveats in the documentation: https://pandas.pydata.org/pandas-docs/stable/user_guide/indexing.html#returning-a-view-versus-a-copy\n",
            "  import sys\n"
          ]
        },
        {
          "output_type": "stream",
          "name": "stdout",
          "text": [
            "<class 'pandas.core.frame.DataFrame'>\n",
            "<class 'pandas.core.frame.DataFrame'>\n",
            "<class 'pandas.core.frame.DataFrame'>\n"
          ]
        },
        {
          "output_type": "execute_result",
          "data": {
            "text/plain": [
              "         sar_id                                           sar_text  \\\n",
              "0  1.184318e+18  bye damn good job. read mlb better anybody. wi...   \n",
              "1  1.195560e+18             number ring? oomfs heard shit ring????   \n",
              "2  1.196460e+18                                         thanks lot   \n",
              "3  1.197357e+18          know? joe biden write violence women act?   \n",
              "4  1.199070e+18  lindsey graham looks sick. lies hes required t...   \n",
              "\n",
              "               user_id  label  \n",
              "0  1066920507122098176      1  \n",
              "1           3105498811      0  \n",
              "2   735016814464339968      1  \n",
              "3  1013124578498039810      1  \n",
              "4            551507199      0  "
            ],
            "text/html": [
              "\n",
              "  <div id=\"df-ba3663c4-2e3c-4cb7-a840-5e06ca8d2f8a\">\n",
              "    <div class=\"colab-df-container\">\n",
              "      <div>\n",
              "<style scoped>\n",
              "    .dataframe tbody tr th:only-of-type {\n",
              "        vertical-align: middle;\n",
              "    }\n",
              "\n",
              "    .dataframe tbody tr th {\n",
              "        vertical-align: top;\n",
              "    }\n",
              "\n",
              "    .dataframe thead th {\n",
              "        text-align: right;\n",
              "    }\n",
              "</style>\n",
              "<table border=\"1\" class=\"dataframe\">\n",
              "  <thead>\n",
              "    <tr style=\"text-align: right;\">\n",
              "      <th></th>\n",
              "      <th>sar_id</th>\n",
              "      <th>sar_text</th>\n",
              "      <th>user_id</th>\n",
              "      <th>label</th>\n",
              "    </tr>\n",
              "  </thead>\n",
              "  <tbody>\n",
              "    <tr>\n",
              "      <th>0</th>\n",
              "      <td>1.184318e+18</td>\n",
              "      <td>bye damn good job. read mlb better anybody. wi...</td>\n",
              "      <td>1066920507122098176</td>\n",
              "      <td>1</td>\n",
              "    </tr>\n",
              "    <tr>\n",
              "      <th>1</th>\n",
              "      <td>1.195560e+18</td>\n",
              "      <td>number ring? oomfs heard shit ring????</td>\n",
              "      <td>3105498811</td>\n",
              "      <td>0</td>\n",
              "    </tr>\n",
              "    <tr>\n",
              "      <th>2</th>\n",
              "      <td>1.196460e+18</td>\n",
              "      <td>thanks lot</td>\n",
              "      <td>735016814464339968</td>\n",
              "      <td>1</td>\n",
              "    </tr>\n",
              "    <tr>\n",
              "      <th>3</th>\n",
              "      <td>1.197357e+18</td>\n",
              "      <td>know? joe biden write violence women act?</td>\n",
              "      <td>1013124578498039810</td>\n",
              "      <td>1</td>\n",
              "    </tr>\n",
              "    <tr>\n",
              "      <th>4</th>\n",
              "      <td>1.199070e+18</td>\n",
              "      <td>lindsey graham looks sick. lies hes required t...</td>\n",
              "      <td>551507199</td>\n",
              "      <td>0</td>\n",
              "    </tr>\n",
              "  </tbody>\n",
              "</table>\n",
              "</div>\n",
              "      <button class=\"colab-df-convert\" onclick=\"convertToInteractive('df-ba3663c4-2e3c-4cb7-a840-5e06ca8d2f8a')\"\n",
              "              title=\"Convert this dataframe to an interactive table.\"\n",
              "              style=\"display:none;\">\n",
              "        \n",
              "  <svg xmlns=\"http://www.w3.org/2000/svg\" height=\"24px\"viewBox=\"0 0 24 24\"\n",
              "       width=\"24px\">\n",
              "    <path d=\"M0 0h24v24H0V0z\" fill=\"none\"/>\n",
              "    <path d=\"M18.56 5.44l.94 2.06.94-2.06 2.06-.94-2.06-.94-.94-2.06-.94 2.06-2.06.94zm-11 1L8.5 8.5l.94-2.06 2.06-.94-2.06-.94L8.5 2.5l-.94 2.06-2.06.94zm10 10l.94 2.06.94-2.06 2.06-.94-2.06-.94-.94-2.06-.94 2.06-2.06.94z\"/><path d=\"M17.41 7.96l-1.37-1.37c-.4-.4-.92-.59-1.43-.59-.52 0-1.04.2-1.43.59L10.3 9.45l-7.72 7.72c-.78.78-.78 2.05 0 2.83L4 21.41c.39.39.9.59 1.41.59.51 0 1.02-.2 1.41-.59l7.78-7.78 2.81-2.81c.8-.78.8-2.07 0-2.86zM5.41 20L4 18.59l7.72-7.72 1.47 1.35L5.41 20z\"/>\n",
              "  </svg>\n",
              "      </button>\n",
              "      \n",
              "  <style>\n",
              "    .colab-df-container {\n",
              "      display:flex;\n",
              "      flex-wrap:wrap;\n",
              "      gap: 12px;\n",
              "    }\n",
              "\n",
              "    .colab-df-convert {\n",
              "      background-color: #E8F0FE;\n",
              "      border: none;\n",
              "      border-radius: 50%;\n",
              "      cursor: pointer;\n",
              "      display: none;\n",
              "      fill: #1967D2;\n",
              "      height: 32px;\n",
              "      padding: 0 0 0 0;\n",
              "      width: 32px;\n",
              "    }\n",
              "\n",
              "    .colab-df-convert:hover {\n",
              "      background-color: #E2EBFA;\n",
              "      box-shadow: 0px 1px 2px rgba(60, 64, 67, 0.3), 0px 1px 3px 1px rgba(60, 64, 67, 0.15);\n",
              "      fill: #174EA6;\n",
              "    }\n",
              "\n",
              "    [theme=dark] .colab-df-convert {\n",
              "      background-color: #3B4455;\n",
              "      fill: #D2E3FC;\n",
              "    }\n",
              "\n",
              "    [theme=dark] .colab-df-convert:hover {\n",
              "      background-color: #434B5C;\n",
              "      box-shadow: 0px 1px 3px 1px rgba(0, 0, 0, 0.15);\n",
              "      filter: drop-shadow(0px 1px 2px rgba(0, 0, 0, 0.3));\n",
              "      fill: #FFFFFF;\n",
              "    }\n",
              "  </style>\n",
              "\n",
              "      <script>\n",
              "        const buttonEl =\n",
              "          document.querySelector('#df-ba3663c4-2e3c-4cb7-a840-5e06ca8d2f8a button.colab-df-convert');\n",
              "        buttonEl.style.display =\n",
              "          google.colab.kernel.accessAllowed ? 'block' : 'none';\n",
              "\n",
              "        async function convertToInteractive(key) {\n",
              "          const element = document.querySelector('#df-ba3663c4-2e3c-4cb7-a840-5e06ca8d2f8a');\n",
              "          const dataTable =\n",
              "            await google.colab.kernel.invokeFunction('convertToInteractive',\n",
              "                                                     [key], {});\n",
              "          if (!dataTable) return;\n",
              "\n",
              "          const docLinkHtml = 'Like what you see? Visit the ' +\n",
              "            '<a target=\"_blank\" href=https://colab.research.google.com/notebooks/data_table.ipynb>data table notebook</a>'\n",
              "            + ' to learn more about interactive tables.';\n",
              "          element.innerHTML = '';\n",
              "          dataTable['output_type'] = 'display_data';\n",
              "          await google.colab.output.renderOutput(dataTable, element);\n",
              "          const docLink = document.createElement('div');\n",
              "          docLink.innerHTML = docLinkHtml;\n",
              "          element.appendChild(docLink);\n",
              "        }\n",
              "      </script>\n",
              "    </div>\n",
              "  </div>\n",
              "  "
            ]
          },
          "metadata": {},
          "execution_count": 4
        }
      ]
    },
    {
      "cell_type": "code",
      "source": [
        "data = pd.concat([df_train, df_test, df_val], ignore_index=True)\n",
        "user_id_ordered = data['user_id']"
      ],
      "metadata": {
        "id": "C5E4dgEWMPIx"
      },
      "execution_count": null,
      "outputs": []
    },
    {
      "cell_type": "code",
      "source": [
        "data.shape"
      ],
      "metadata": {
        "colab": {
          "base_uri": "https://localhost:8080/"
        },
        "id": "Gikt-ttTV2ld",
        "outputId": "2c70c857-2f61-40dd-92f1-c21a1afc101a"
      },
      "execution_count": null,
      "outputs": [
        {
          "output_type": "execute_result",
          "data": {
            "text/plain": [
              "(23633, 4)"
            ]
          },
          "metadata": {},
          "execution_count": 6
        }
      ]
    },
    {
      "cell_type": "markdown",
      "source": [
        "## **User embeddings loading and modifying**"
      ],
      "metadata": {
        "id": "olkNop7Xr5T9"
      }
    },
    {
      "cell_type": "code",
      "source": [
        "with open('drive/MyDrive/user_attribution/user_attribution_prediction.pickle', 'rb') as handle:\n",
        "  dict_user_embeddings = pickle.load(handle)"
      ],
      "metadata": {
        "id": "t3gF6HxM9WUA"
      },
      "execution_count": null,
      "outputs": []
    },
    {
      "cell_type": "code",
      "source": [
        "len(dict_user_embeddings[list(dict_user_embeddings.keys())[0]])"
      ],
      "metadata": {
        "colab": {
          "base_uri": "https://localhost:8080/"
        },
        "id": "lxEDxCHZ-BqE",
        "outputId": "ad06aa85-0835-48db-9981-04f74aa6a2c7"
      },
      "execution_count": null,
      "outputs": [
        {
          "output_type": "execute_result",
          "data": {
            "text/plain": [
              "15329"
            ]
          },
          "metadata": {},
          "execution_count": 8
        }
      ]
    },
    {
      "cell_type": "code",
      "source": [
        "import toolz\n",
        "\n",
        "def tensor_to_array(t):\n",
        "  return t.numpy()\n",
        "\n",
        "dict_user_embeddings = toolz.valmap(tensor_to_array, dict_user_embeddings)\n",
        "dict_user_embeddings"
      ],
      "metadata": {
        "colab": {
          "base_uri": "https://localhost:8080/"
        },
        "id": "kzobMpD54xuv",
        "outputId": "6ca3a7d6-1de3-462b-c258-53aeb1ae3467"
      },
      "execution_count": null,
      "outputs": [
        {
          "output_type": "execute_result",
          "data": {
            "text/plain": [
              "{707672778867130368: array([0., 0., 0., ..., 0., 0., 0.], dtype=float32),\n",
              " 51123724: array([0., 0., 0., ..., 0., 0., 0.], dtype=float32),\n",
              " 758087956754161664: array([0., 0., 0., ..., 0., 0., 0.], dtype=float32),\n",
              " 228269677: array([0., 0., 0., ..., 0., 0., 0.], dtype=float32),\n",
              " 18181081: array([0., 0., 0., ..., 0., 0., 0.], dtype=float32),\n",
              " 813128076938932225: array([0., 0., 0., ..., 0., 0., 0.], dtype=float32),\n",
              " 857394966473134081: array([0., 0., 0., ..., 0., 0., 0.], dtype=float32),\n",
              " 203821092: array([0., 0., 0., ..., 0., 0., 0.], dtype=float32),\n",
              " 726787486945517568: array([0., 0., 0., ..., 0., 0., 0.], dtype=float32),\n",
              " 1276683044: array([0., 0., 0., ..., 0., 0., 0.], dtype=float32),\n",
              " 1069994038827245568: array([0., 0., 0., ..., 0., 0., 0.], dtype=float32),\n",
              " 864552020136656897: array([0., 0., 0., ..., 0., 0., 0.], dtype=float32),\n",
              " 97034895: array([0., 0., 0., ..., 0., 0., 0.], dtype=float32),\n",
              " 1262439908: array([0., 0., 0., ..., 0., 0., 0.], dtype=float32),\n",
              " 2193895070: array([0., 0., 0., ..., 0., 0., 0.], dtype=float32),\n",
              " 776159788182999040: array([0., 0., 0., ..., 0., 0., 0.], dtype=float32),\n",
              " 3032301939: array([0., 0., 0., ..., 0., 0., 0.], dtype=float32),\n",
              " 612999023: array([0., 0., 0., ..., 0., 0., 0.], dtype=float32),\n",
              " 1036352449051873281: array([0., 0., 0., ..., 0., 0., 0.], dtype=float32),\n",
              " 308811002: array([0., 0., 0., ..., 0., 0., 0.], dtype=float32),\n",
              " 1018490428872675328: array([0., 0., 0., ..., 0., 0., 0.], dtype=float32),\n",
              " 72597458: array([0., 0., 0., ..., 0., 0., 0.], dtype=float32),\n",
              " 216962176: array([0., 0., 0., ..., 0., 0., 0.], dtype=float32),\n",
              " 897077909357297664: array([0., 0., 0., ..., 0., 0., 0.], dtype=float32),\n",
              " 57646240: array([0., 0., 0., ..., 0., 0., 0.], dtype=float32),\n",
              " 3770270056: array([0., 0., 0., ..., 0., 0., 0.], dtype=float32),\n",
              " 72957494: array([0., 0., 0., ..., 0., 0., 0.], dtype=float32),\n",
              " 1254758834: array([0., 0., 0., ..., 0., 0., 0.], dtype=float32),\n",
              " 1184314788047777792: array([0., 0., 0., ..., 0., 0., 0.], dtype=float32),\n",
              " 939066695930359808: array([0., 0., 0., ..., 0., 0., 0.], dtype=float32),\n",
              " 924645426338332677: array([0., 0., 0., ..., 0., 0., 0.], dtype=float32),\n",
              " 367335228: array([0., 0., 0., ..., 0., 0., 0.], dtype=float32),\n",
              " 29465136: array([0., 0., 0., ..., 0., 0., 0.], dtype=float32),\n",
              " 167908033: array([0., 0., 0., ..., 0., 0., 0.], dtype=float32),\n",
              " 872662261: array([0., 0., 0., ..., 0., 0., 0.], dtype=float32),\n",
              " 751932036961673216: array([0., 0., 0., ..., 0., 0., 0.], dtype=float32),\n",
              " 813552882: array([0., 0., 0., ..., 0., 0., 0.], dtype=float32),\n",
              " 383920358: array([0., 0., 0., ..., 0., 0., 0.], dtype=float32),\n",
              " 979061733783490560: array([0., 0., 0., ..., 0., 0., 0.], dtype=float32),\n",
              " 1005553567824932864: array([0., 0., 0., ..., 0., 0., 0.], dtype=float32),\n",
              " 744247717929508864: array([0., 0., 0., ..., 0., 0., 0.], dtype=float32),\n",
              " 4433714533: array([0., 0., 0., ..., 0., 0., 0.], dtype=float32),\n",
              " 150455590: array([0., 0., 0., ..., 0., 0., 0.], dtype=float32),\n",
              " 18302596: array([0., 0., 0., ..., 0., 0., 0.], dtype=float32),\n",
              " 65269063: array([0., 0., 0., ..., 0., 0., 0.], dtype=float32),\n",
              " 353209225: array([0., 0., 0., ..., 0., 0., 0.], dtype=float32),\n",
              " 22382335: array([0., 0., 0., ..., 0., 0., 0.], dtype=float32),\n",
              " 251697577: array([0., 0., 0., ..., 0., 0., 0.], dtype=float32),\n",
              " 782748306812309504: array([0., 0., 0., ..., 0., 0., 0.], dtype=float32),\n",
              " 110615548: array([0., 0., 0., ..., 0., 0., 0.], dtype=float32),\n",
              " 722412793643737088: array([0., 0., 0., ..., 0., 0., 0.], dtype=float32),\n",
              " 820309941214814209: array([0., 0., 0., ..., 0., 0., 0.], dtype=float32),\n",
              " 485963030: array([0., 0., 0., ..., 0., 0., 0.], dtype=float32),\n",
              " 3292237740: array([0., 0., 0., ..., 0., 0., 0.], dtype=float32),\n",
              " 792335388: array([0., 0., 0., ..., 0., 0., 0.], dtype=float32),\n",
              " 1090973674797219840: array([0., 0., 0., ..., 0., 0., 0.], dtype=float32),\n",
              " 1111282900790640641: array([0., 0., 0., ..., 0., 0., 0.], dtype=float32),\n",
              " 2282073967: array([0., 0., 0., ..., 0., 0., 0.], dtype=float32),\n",
              " 735880227486715904: array([0., 0., 0., ..., 0., 0., 0.], dtype=float32),\n",
              " 323399599: array([0., 0., 0., ..., 0., 0., 0.], dtype=float32),\n",
              " 281277363: array([0., 0., 0., ..., 0., 0., 0.], dtype=float32),\n",
              " 48477003: array([0., 0., 0., ..., 0., 0., 0.], dtype=float32),\n",
              " 220783288: array([0., 0., 0., ..., 0., 0., 0.], dtype=float32),\n",
              " 899314540180946945: array([0., 0., 0., ..., 0., 0., 0.], dtype=float32),\n",
              " 180067388: array([0., 0., 0., ..., 0., 0., 0.], dtype=float32),\n",
              " 1027236023770800129: array([0., 0., 0., ..., 0., 0., 0.], dtype=float32),\n",
              " 1833882302: array([0., 0., 0., ..., 0., 0., 0.], dtype=float32),\n",
              " 1022416736967176192: array([0., 0., 0., ..., 0., 0., 0.], dtype=float32),\n",
              " 72600006: array([0., 0., 0., ..., 0., 0., 0.], dtype=float32),\n",
              " 158021529: array([0., 0., 0., ..., 0., 0., 0.], dtype=float32),\n",
              " 386087755: array([0., 0., 0., ..., 0., 0., 0.], dtype=float32),\n",
              " 1067014872: array([0., 0., 0., ..., 0., 0., 0.], dtype=float32),\n",
              " 1375261302: array([0., 0., 0., ..., 0., 0., 0.], dtype=float32),\n",
              " 61181107: array([0., 0., 0., ..., 0., 0., 0.], dtype=float32),\n",
              " 885672679034040320: array([0., 0., 0., ..., 0., 0., 0.], dtype=float32),\n",
              " 1173189403252023296: array([0., 0., 0., ..., 0., 0., 0.], dtype=float32),\n",
              " 780672432902250496: array([0., 0., 0., ..., 0., 0., 0.], dtype=float32),\n",
              " 880574603751542784: array([0., 0., 0., ..., 0., 0., 0.], dtype=float32),\n",
              " 1045217142692614145: array([0., 0., 0., ..., 0., 0., 0.], dtype=float32),\n",
              " 1224283214: array([0., 0., 0., ..., 0., 0., 0.], dtype=float32),\n",
              " 4092700100: array([0., 0., 0., ..., 0., 0., 0.], dtype=float32),\n",
              " 887823277082660864: array([0., 0., 0., ..., 0., 0., 0.], dtype=float32),\n",
              " 1179306956: array([0., 0., 0., ..., 0., 0., 0.], dtype=float32),\n",
              " 53517418: array([0., 0., 0., ..., 0., 0., 0.], dtype=float32),\n",
              " 2858946618: array([0., 0., 0., ..., 0., 0., 0.], dtype=float32),\n",
              " 3005318221: array([0., 0., 0., ..., 0., 0., 0.], dtype=float32),\n",
              " 2904913023: array([0., 0., 0., ..., 0., 0., 0.], dtype=float32),\n",
              " 1452412040: array([0., 0., 0., ..., 0., 0., 0.], dtype=float32),\n",
              " 38445467: array([0., 0., 0., ..., 0., 0., 0.], dtype=float32),\n",
              " 146456687: array([0., 0., 0., ..., 0., 0., 0.], dtype=float32),\n",
              " 1024014901671485440: array([0., 0., 0., ..., 0., 0., 0.], dtype=float32),\n",
              " 1107822077346615297: array([0., 0., 0., ..., 0., 0., 0.], dtype=float32),\n",
              " 1087481814451736576: array([0., 0., 0., ..., 0., 0., 0.], dtype=float32),\n",
              " 2230707516: array([0., 0., 0., ..., 0., 0., 0.], dtype=float32),\n",
              " 3299214997: array([0., 0., 0., ..., 0., 0., 0.], dtype=float32),\n",
              " 39120457: array([0., 0., 0., ..., 0., 0., 0.], dtype=float32),\n",
              " 564403651: array([0., 0., 0., ..., 0., 0., 0.], dtype=float32),\n",
              " 3654139038: array([0.  , 0.01, 0.  , ..., 0.  , 0.  , 0.  ], dtype=float32),\n",
              " 30618930: array([0., 0., 0., ..., 0., 0., 0.], dtype=float32),\n",
              " 3317630878: array([0., 0., 0., ..., 0., 0., 0.], dtype=float32),\n",
              " 19919785: array([0., 0., 0., ..., 0., 0., 0.], dtype=float32),\n",
              " 276554436: array([0., 0., 0., ..., 0., 0., 0.], dtype=float32),\n",
              " 1191074530925543424: array([0., 0., 0., ..., 0., 0., 0.], dtype=float32),\n",
              " 1502656688: array([0., 0., 0., ..., 0., 0., 0.], dtype=float32),\n",
              " 710869866366914560: array([0., 0., 0., ..., 0., 0., 0.], dtype=float32),\n",
              " 742456808913178624: array([0., 0., 0., ..., 0., 0., 0.], dtype=float32),\n",
              " 2920137625: array([0., 0., 0., ..., 0., 0., 0.], dtype=float32),\n",
              " 1081964165273546752: array([0., 0., 0., ..., 0., 0., 0.], dtype=float32),\n",
              " 16106584: array([0., 0., 0., ..., 0., 0., 0.], dtype=float32),\n",
              " 21830230: array([0., 0., 0., ..., 0., 0., 0.], dtype=float32),\n",
              " 977174693802381315: array([0., 0., 0., ..., 0., 0., 0.], dtype=float32),\n",
              " 58017793: array([0., 0., 0., ..., 0., 0., 0.], dtype=float32),\n",
              " 237840690: array([0., 0., 0., ..., 0., 0., 0.], dtype=float32),\n",
              " 1267075441: array([0., 0., 0., ..., 0., 0., 0.], dtype=float32),\n",
              " 1053954433: array([0., 0., 0., ..., 0., 0., 0.], dtype=float32),\n",
              " 148118667: array([0., 0., 0., ..., 0., 0., 0.], dtype=float32),\n",
              " 993147038639403009: array([0., 0., 0., ..., 0., 0., 0.], dtype=float32),\n",
              " 274079080: array([0., 0., 0., ..., 0., 0., 0.], dtype=float32),\n",
              " 599515781: array([0., 0., 0., ..., 0., 0., 0.], dtype=float32),\n",
              " 163444006: array([0., 0., 0., ..., 0., 0., 0.], dtype=float32),\n",
              " 874483559842447360: array([0., 0., 0., ..., 0., 0., 0.], dtype=float32),\n",
              " 2933890929: array([0., 0., 0., ..., 0., 0., 0.], dtype=float32),\n",
              " 17995040: array([0., 0., 0., ..., 0., 0., 0.], dtype=float32),\n",
              " 157653905: array([0., 0., 0., ..., 0., 0., 0.], dtype=float32),\n",
              " 913320740: array([0., 0., 0., ..., 0., 0., 0.], dtype=float32),\n",
              " 194022170: array([0., 0., 0., ..., 0., 0., 0.], dtype=float32),\n",
              " 170977970: array([0., 0., 0., ..., 0., 0., 0.], dtype=float32),\n",
              " 1182344686184402944: array([0., 0., 0., ..., 0., 0., 0.], dtype=float32),\n",
              " 395399205: array([0., 0., 0., ..., 0., 0., 0.], dtype=float32),\n",
              " 849765930129281024: array([0., 0., 0., ..., 0., 0., 0.], dtype=float32),\n",
              " 1001017450127921152: array([0., 0., 0., ..., 0., 0., 0.], dtype=float32),\n",
              " 913768446755786752: array([0.  , 0.  , 0.  , ..., 0.02, 0.  , 0.  ], dtype=float32),\n",
              " 923779456937930753: array([0.  , 0.  , 0.  , ..., 0.  , 0.01, 0.  ], dtype=float32),\n",
              " 881698340043460609: array([0., 0., 0., ..., 0., 0., 0.], dtype=float32),\n",
              " 1030807208643112961: array([0., 0., 0., ..., 0., 0., 0.], dtype=float32),\n",
              " 25826072: array([0., 0., 0., ..., 0., 0., 0.], dtype=float32),\n",
              " 1133540920404652037: array([0., 0., 0., ..., 0., 0., 0.], dtype=float32),\n",
              " 49296776: array([0., 0., 0., ..., 0., 0., 0.], dtype=float32),\n",
              " 1150158213809090565: array([0., 0., 0., ..., 0., 0., 0.], dtype=float32),\n",
              " 2463030249: array([0., 0., 0., ..., 0., 0., 0.], dtype=float32),\n",
              " 277920538: array([0., 0., 0., ..., 0., 0., 0.], dtype=float32),\n",
              " 173871352: array([0., 0., 0., ..., 0., 0., 0.], dtype=float32),\n",
              " 62561812: array([0., 0., 0., ..., 0., 0., 0.], dtype=float32),\n",
              " 365466063: array([0., 0., 0., ..., 0., 0., 0.], dtype=float32),\n",
              " 152448492: array([0., 0., 0., ..., 0., 0., 0.], dtype=float32),\n",
              " 446743800: array([0., 0., 0., ..., 0., 0., 0.], dtype=float32),\n",
              " 49793: array([0., 0., 0., ..., 0., 0., 0.], dtype=float32),\n",
              " 226555114: array([0., 0., 0., ..., 0., 0., 0.], dtype=float32),\n",
              " 20270332: array([0., 0., 0., ..., 0., 0., 0.], dtype=float32),\n",
              " 346317471: array([0., 0., 0., ..., 0., 0., 0.], dtype=float32),\n",
              " 37166176: array([0., 0., 0., ..., 0., 0., 0.], dtype=float32),\n",
              " 2252691354: array([0., 0., 0., ..., 0., 0., 0.], dtype=float32),\n",
              " 43775786: array([0., 0., 0., ..., 0., 0., 0.], dtype=float32),\n",
              " 144557341: array([0., 0., 0., ..., 0., 0., 0.], dtype=float32),\n",
              " 838497533831737345: array([0., 0., 0., ..., 0., 0., 0.], dtype=float32),\n",
              " 3376568109: array([0., 0., 0., ..., 0., 0., 0.], dtype=float32),\n",
              " 754525051727249409: array([0., 0., 0., ..., 0., 0., 0.], dtype=float32),\n",
              " 1066480846675238912: array([0., 0., 0., ..., 0., 0., 0.], dtype=float32),\n",
              " 65393586: array([0., 0., 0., ..., 0., 0., 0.], dtype=float32),\n",
              " 104811847: array([0.  , 0.  , 0.01, ..., 0.  , 0.  , 0.  ], dtype=float32),\n",
              " 118756393: array([0., 0., 0., ..., 0., 0., 0.], dtype=float32),\n",
              " 201696749: array([0., 0., 0., ..., 0., 0., 0.], dtype=float32),\n",
              " 770735739248123904: array([0., 0., 0., ..., 0., 0., 0.], dtype=float32),\n",
              " 1072020970116808704: array([0., 0., 0., ..., 0., 0., 0.], dtype=float32),\n",
              " 759849571073699840: array([0., 0., 0., ..., 0., 0., 0.], dtype=float32),\n",
              " 2214602025: array([0., 0., 0., ..., 0., 0., 0.], dtype=float32),\n",
              " 92879011: array([0., 0., 0., ..., 0., 0., 0.], dtype=float32),\n",
              " 49073420: array([0., 0., 0., ..., 0., 0., 0.], dtype=float32),\n",
              " 2657278123: array([0., 0., 0., ..., 0., 0., 0.], dtype=float32),\n",
              " 750623023145881600: array([0., 0., 0., ..., 0., 0., 0.], dtype=float32),\n",
              " 146556805: array([0., 0., 0., ..., 0., 0., 0.], dtype=float32),\n",
              " 1158054642493923329: array([0., 0., 0., ..., 0., 0., 0.], dtype=float32),\n",
              " 1188461408721293313: array([0., 0., 0., ..., 0., 0., 0.], dtype=float32),\n",
              " 20221325: array([0., 0., 0., ..., 0., 0., 0.], dtype=float32),\n",
              " 1115304722498342912: array([0., 0., 0., ..., 0., 0., 0.], dtype=float32),\n",
              " 814399442: array([0., 0., 0., ..., 0., 0., 0.], dtype=float32),\n",
              " 1131121468039786496: array([0., 0., 0., ..., 0., 0., 0.], dtype=float32),\n",
              " 257111729: array([0., 0., 0., ..., 0., 0., 0.], dtype=float32),\n",
              " 1367153473: array([0., 0., 0., ..., 0., 0., 0.], dtype=float32),\n",
              " 3060489838: array([0., 0., 0., ..., 0., 0., 0.], dtype=float32),\n",
              " 19457805: array([0., 0., 0., ..., 0., 0., 0.], dtype=float32),\n",
              " 742827146012327936: array([0., 0., 0., ..., 0., 0., 0.], dtype=float32),\n",
              " 153398156: array([0., 0., 0., ..., 0., 0., 0.], dtype=float32),\n",
              " 38391564: array([0., 0., 0., ..., 0., 0., 0.], dtype=float32),\n",
              " 718950130020458496: array([0., 0., 0., ..., 0., 0., 0.], dtype=float32),\n",
              " 926381353746292738: array([0., 0., 0., ..., 0., 0., 0.], dtype=float32),\n",
              " 2966188213: array([0., 0., 0., ..., 0., 0., 0.], dtype=float32),\n",
              " 990317363915579392: array([0., 0., 0., ..., 0., 0., 0.], dtype=float32),\n",
              " 23925639: array([0., 0., 0., ..., 0., 0., 0.], dtype=float32),\n",
              " 1649113472: array([0., 0., 0., ..., 0., 0., 0.], dtype=float32),\n",
              " 105468156: array([0., 0., 0., ..., 0., 0., 0.], dtype=float32),\n",
              " 316035486: array([0., 0., 0., ..., 0., 0., 0.], dtype=float32),\n",
              " 231310226: array([0., 0., 0., ..., 0., 0., 0.], dtype=float32),\n",
              " 1049766211645558786: array([0., 0., 0., ..., 0., 0., 0.], dtype=float32),\n",
              " 1172508173783228416: array([0., 0., 0., ..., 0., 0., 0.], dtype=float32),\n",
              " 2984607346: array([0., 0., 0., ..., 0., 0., 0.], dtype=float32),\n",
              " 571376314: array([0., 0., 0., ..., 0., 0., 0.], dtype=float32),\n",
              " 295049967: array([0., 0., 0., ..., 0., 0., 0.], dtype=float32),\n",
              " 2863448758: array([0., 0., 0., ..., 0., 0., 0.], dtype=float32),\n",
              " 872822747713474561: array([0., 0., 0., ..., 0., 0., 0.], dtype=float32),\n",
              " 80655847: array([0., 0., 0., ..., 0., 0., 0.], dtype=float32),\n",
              " 68317399: array([0., 0., 0., ..., 0., 0., 0.], dtype=float32),\n",
              " 1118836941439500288: array([0., 0., 0., ..., 0., 0., 0.], dtype=float32),\n",
              " 158100294: array([0., 0., 0., ..., 0., 0., 0.], dtype=float32),\n",
              " 371466354: array([0., 0., 0., ..., 0., 0., 0.], dtype=float32),\n",
              " 161767603: array([0., 0., 0., ..., 0., 0., 0.], dtype=float32),\n",
              " 69607928: array([0., 0., 0., ..., 0., 0., 0.], dtype=float32),\n",
              " 78317975: array([0., 0., 0., ..., 0., 0., 0.], dtype=float32),\n",
              " 1384208720: array([0., 0., 0., ..., 0., 0., 0.], dtype=float32),\n",
              " 1525479919: array([0., 0., 0., ..., 0., 0., 0.], dtype=float32),\n",
              " 1141002248958423047: array([0., 0., 0., ..., 0., 0., 0.], dtype=float32),\n",
              " 16794766: array([0., 0., 0., ..., 0., 0., 0.], dtype=float32),\n",
              " 3161247189: array([0., 0., 0., ..., 0., 0., 0.], dtype=float32),\n",
              " 851198808: array([0., 0., 0., ..., 0., 0., 0.], dtype=float32),\n",
              " 3394761881: array([0., 0., 0., ..., 0., 0., 0.], dtype=float32),\n",
              " 321647122: array([0., 0., 0., ..., 0., 0., 0.], dtype=float32),\n",
              " 19254566: array([0., 0., 0., ..., 0., 0., 0.], dtype=float32),\n",
              " 3250035728: array([0., 0., 0., ..., 0., 0., 0.], dtype=float32),\n",
              " 43065749: array([0., 0., 0., ..., 0., 0., 0.], dtype=float32),\n",
              " 19573727: array([0., 0., 0., ..., 0., 0., 0.], dtype=float32),\n",
              " 900356432: array([0., 0., 0., ..., 0., 0., 0.], dtype=float32),\n",
              " 4736776408: array([0., 0., 0., ..., 0., 0., 0.], dtype=float32),\n",
              " 2987894557: array([0., 0., 0., ..., 0., 0., 0.], dtype=float32),\n",
              " 1173431933138808832: array([0., 0., 0., ..., 0., 0., 0.], dtype=float32),\n",
              " 134624519: array([0., 0., 0., ..., 0., 0., 0.], dtype=float32),\n",
              " 15019002: array([0., 0., 0., ..., 0., 0., 0.], dtype=float32),\n",
              " 2769021753: array([0., 0., 0., ..., 0., 0., 0.], dtype=float32),\n",
              " 260718084: array([0., 0., 0., ..., 0., 0., 0.], dtype=float32),\n",
              " 823017783516598272: array([0., 0., 0., ..., 0., 0., 0.], dtype=float32),\n",
              " 2897995584: array([0., 0., 0., ..., 0., 0., 0.], dtype=float32),\n",
              " 2273640506: array([0., 0., 0., ..., 0., 0., 0.], dtype=float32),\n",
              " 330180945: array([0., 0., 0., ..., 0., 0., 0.], dtype=float32),\n",
              " 42013288: array([0., 0., 0., ..., 0., 0., 0.], dtype=float32),\n",
              " 145477243: array([0., 0., 0., ..., 0., 0., 0.], dtype=float32),\n",
              " 874635442821386241: array([0., 0., 0., ..., 0., 0., 0.], dtype=float32),\n",
              " 484032966: array([0., 0., 0., ..., 0., 0., 0.], dtype=float32),\n",
              " 1172692858148741121: array([0., 0., 0., ..., 0., 0., 0.], dtype=float32),\n",
              " 257715213: array([0., 0., 0., ..., 0., 0., 0.], dtype=float32),\n",
              " 246642398: array([0., 0., 0., ..., 0., 0., 0.], dtype=float32),\n",
              " 1191432608565080066: array([0., 0., 0., ..., 0., 0., 0.], dtype=float32),\n",
              " 1286765497: array([0., 0., 0., ..., 0., 0., 0.], dtype=float32),\n",
              " 1694946132: array([0., 0., 0., ..., 0., 0., 0.], dtype=float32),\n",
              " 2410068528: array([0., 0., 0., ..., 0., 0., 0.], dtype=float32),\n",
              " 150793671: array([0., 0., 0., ..., 0., 0., 0.], dtype=float32),\n",
              " 865897862433042434: array([0., 0., 0., ..., 0., 0., 0.], dtype=float32),\n",
              " 90346496: array([0., 0., 0., ..., 0., 0., 0.], dtype=float32),\n",
              " 1182515703708078082: array([0., 0., 0., ..., 0., 0., 0.], dtype=float32),\n",
              " 166007994: array([0., 0., 0., ..., 0., 0., 0.], dtype=float32),\n",
              " 117189498: array([0., 0., 0., ..., 0., 0., 0.], dtype=float32),\n",
              " 1060592386915659776: array([0., 0., 0., ..., 0., 0., 0.], dtype=float32),\n",
              " 1189181113123536896: array([0., 0., 0., ..., 0., 0., 0.], dtype=float32),\n",
              " 1111420923737985024: array([0., 0., 0., ..., 0., 0., 0.], dtype=float32),\n",
              " 760617074498605056: array([0., 0., 0., ..., 0., 0., 0.], dtype=float32),\n",
              " 725402329990717440: array([0., 0., 0., ..., 0., 0., 0.], dtype=float32),\n",
              " 1703902436: array([0., 0., 0., ..., 0., 0., 0.], dtype=float32),\n",
              " 2421157950: array([0., 0., 0., ..., 0., 0., 0.], dtype=float32),\n",
              " 1183125073089220608: array([0., 0., 0., ..., 0., 0., 0.], dtype=float32),\n",
              " 798185978: array([0., 0., 0., ..., 0., 0., 0.], dtype=float32),\n",
              " 1170366395000991744: array([0., 0., 0., ..., 0., 0., 0.], dtype=float32),\n",
              " 2436067879: array([0., 0., 0., ..., 0., 0., 0.], dtype=float32),\n",
              " 2239923596: array([0., 0., 0., ..., 0., 0., 0.], dtype=float32),\n",
              " 46238429: array([0., 0., 0., ..., 0., 0., 0.], dtype=float32),\n",
              " 849101269734240256: array([0., 0., 0., ..., 0., 0., 0.], dtype=float32),\n",
              " 44949694: array([0., 0., 0., ..., 0., 0., 0.], dtype=float32),\n",
              " 46726877: array([0., 0., 0., ..., 0., 0., 0.], dtype=float32),\n",
              " 141627220: array([0., 0., 0., ..., 0., 0., 0.], dtype=float32),\n",
              " 910951691096174593: array([0., 0., 0., ..., 0., 0., 0.], dtype=float32),\n",
              " 19116999: array([0., 0., 0., ..., 0., 0., 0.], dtype=float32),\n",
              " 1045735527671103488: array([0., 0., 0., ..., 0., 0., 0.], dtype=float32),\n",
              " 176228448: array([0., 0., 0., ..., 0., 0., 0.], dtype=float32),\n",
              " 1089400665300905985: array([0., 0., 0., ..., 0., 0., 0.], dtype=float32),\n",
              " 883813866869796865: array([0.  , 0.  , 0.  , ..., 0.01, 0.  , 0.  ], dtype=float32),\n",
              " 306337455: array([0., 0., 0., ..., 0., 0., 0.], dtype=float32),\n",
              " 1107857191824998400: array([0., 0., 0., ..., 0., 0., 0.], dtype=float32),\n",
              " 832646211752505344: array([0., 0., 0., ..., 0., 0., 0.], dtype=float32),\n",
              " 1047468079: array([0., 0., 0., ..., 0., 0., 0.], dtype=float32),\n",
              " 2276639311: array([0., 0., 0., ..., 0., 0., 0.], dtype=float32),\n",
              " 1118252792815206400: array([0., 0., 0., ..., 0., 0., 0.], dtype=float32),\n",
              " 2778576690: array([0., 0., 0., ..., 0., 0., 0.], dtype=float32),\n",
              " 339770416: array([0., 0., 0., ..., 0., 0., 0.], dtype=float32),\n",
              " 1152151859232161794: array([0., 0., 0., ..., 0., 0., 0.], dtype=float32),\n",
              " 561654270: array([0., 0., 0., ..., 0., 0., 0.], dtype=float32),\n",
              " 764101725858828288: array([0., 0., 0., ..., 0., 0., 0.], dtype=float32),\n",
              " 357349160: array([0., 0., 0., ..., 0., 0., 0.], dtype=float32),\n",
              " 391432993: array([0., 0., 0., ..., 0., 0., 0.], dtype=float32),\n",
              " 1178017643963437056: array([0., 0., 0., ..., 0., 0., 0.], dtype=float32),\n",
              " 1023993196563423232: array([0., 0., 0., ..., 0., 0., 0.], dtype=float32),\n",
              " 148973525: array([0., 0., 0., ..., 0., 0., 0.], dtype=float32),\n",
              " 509274630: array([0., 0., 0., ..., 0., 0., 0.], dtype=float32),\n",
              " 174110843: array([0., 0., 0., ..., 0., 0., 0.], dtype=float32),\n",
              " 1188612184194068480: array([0., 0., 0., ..., 0., 0., 0.], dtype=float32),\n",
              " 1168739944547794944: array([0., 0., 0., ..., 0., 0., 0.], dtype=float32),\n",
              " 515919675: array([0., 0., 0., ..., 0., 0., 0.], dtype=float32),\n",
              " 2800843867: array([0., 0., 0., ..., 0., 0., 0.], dtype=float32),\n",
              " 933593420374913024: array([0., 0., 0., ..., 0., 0., 0.], dtype=float32),\n",
              " 414667298: array([0., 0., 0., ..., 0., 0., 0.], dtype=float32),\n",
              " 51241574: array([0., 0., 0., ..., 0., 0., 0.], dtype=float32),\n",
              " 41495270: array([0., 0., 0., ..., 0., 0., 0.], dtype=float32),\n",
              " 2427168679: array([0., 0., 0., ..., 0., 0., 0.], dtype=float32),\n",
              " 114033216: array([0., 0., 0., ..., 0., 0., 0.], dtype=float32),\n",
              " 186667011: array([0., 0., 0., ..., 0., 0., 0.], dtype=float32),\n",
              " 20555137: array([0., 0., 0., ..., 0., 0., 0.], dtype=float32),\n",
              " 3234645135: array([0., 0., 0., ..., 0., 0., 0.], dtype=float32),\n",
              " 17817456: array([0., 0., 0., ..., 0., 0., 0.], dtype=float32),\n",
              " 820943966: array([0., 0., 0., ..., 0., 0., 0.], dtype=float32),\n",
              " 3096218636: array([0., 0., 0., ..., 0., 0., 0.], dtype=float32),\n",
              " 77392218: array([0., 0., 0., ..., 0., 0., 0.], dtype=float32),\n",
              " 249628000: array([0., 0., 0., ..., 0., 0., 0.], dtype=float32),\n",
              " 40707335: array([0., 0., 0., ..., 0., 0., 0.], dtype=float32),\n",
              " 977090732774305792: array([0., 0., 0., ..., 0., 0., 0.], dtype=float32),\n",
              " 22044633: array([0., 0., 0., ..., 0., 0., 0.], dtype=float32),\n",
              " 629138159: array([0., 0., 0., ..., 0., 0., 0.], dtype=float32),\n",
              " 3139798572: array([0., 0., 0., ..., 0., 0., 0.], dtype=float32),\n",
              " 1561123663: array([0.  , 0.  , 0.  , ..., 0.01, 0.  , 0.  ], dtype=float32),\n",
              " 286613468: array([0., 0., 0., ..., 0., 0., 0.], dtype=float32),\n",
              " 96593175: array([0., 0., 0., ..., 0., 0., 0.], dtype=float32),\n",
              " 884707518345134080: array([0., 0., 0., ..., 0., 0., 0.], dtype=float32),\n",
              " 480483270: array([0., 0., 0., ..., 0., 0., 0.], dtype=float32),\n",
              " 936975745: array([0., 0., 0., ..., 0., 0., 0.], dtype=float32),\n",
              " 54881970: array([0., 0., 0., ..., 0., 0., 0.], dtype=float32),\n",
              " 39389612: array([0., 0., 0., ..., 0., 0., 0.], dtype=float32),\n",
              " 757074348763033600: array([0., 0., 0., ..., 0., 0., 0.], dtype=float32),\n",
              " 294282996: array([0., 0., 0., ..., 0., 0., 0.], dtype=float32),\n",
              " 3038002850: array([0., 0., 0., ..., 0., 0., 0.], dtype=float32),\n",
              " 219895367: array([0., 0., 0., ..., 0., 0., 0.], dtype=float32),\n",
              " 141228335: array([0., 0., 0., ..., 0., 0., 0.], dtype=float32),\n",
              " 1567087956: array([0., 0., 0., ..., 0., 0., 0.], dtype=float32),\n",
              " 16973333: array([0., 0., 0., ..., 0., 0., 0.], dtype=float32),\n",
              " 1086436311328833538: array([0., 0., 0., ..., 0., 0., 0.], dtype=float32),\n",
              " 58603882: array([0., 0., 0., ..., 0., 0., 0.], dtype=float32),\n",
              " 2777258905: array([0., 0., 0., ..., 0., 0., 0.], dtype=float32),\n",
              " 569289131: array([0., 0., 0., ..., 0., 0., 0.], dtype=float32),\n",
              " 870389198993444865: array([0.  , 0.  , 0.  , ..., 0.01, 0.  , 0.  ], dtype=float32),\n",
              " 77141982: array([0., 0., 0., ..., 0., 0., 0.], dtype=float32),\n",
              " 736970403717873668: array([0., 0., 0., ..., 0., 0., 0.], dtype=float32),\n",
              " 10221312: array([0., 0., 0., ..., 0., 0., 0.], dtype=float32),\n",
              " 20165111: array([0., 0., 0., ..., 0., 0., 0.], dtype=float32),\n",
              " 1125118171881594881: array([0., 0., 0., ..., 0., 0., 0.], dtype=float32),\n",
              " 917039815006183425: array([0., 0., 0., ..., 0., 0., 0.], dtype=float32),\n",
              " 411111242: array([0., 0., 0., ..., 0., 0., 0.], dtype=float32),\n",
              " 343620661: array([0., 0., 0., ..., 0., 0., 0.], dtype=float32),\n",
              " 4828068038: array([0., 0., 0., ..., 0., 0., 0.], dtype=float32),\n",
              " 987746161414033413: array([0., 0., 0., ..., 0., 0., 0.], dtype=float32),\n",
              " 771127282995826688: array([0., 0., 0., ..., 0., 0., 0.], dtype=float32),\n",
              " 44389819: array([0., 0., 0., ..., 0., 0., 0.], dtype=float32),\n",
              " 221147690: array([0., 0., 0., ..., 0., 0., 0.], dtype=float32),\n",
              " 2732103467: array([0., 0., 0., ..., 0., 0., 0.], dtype=float32),\n",
              " 1096470085886185474: array([0., 0., 0., ..., 0., 0., 0.], dtype=float32),\n",
              " 559229566: array([0., 0., 0., ..., 0., 0., 0.], dtype=float32),\n",
              " 1735189351: array([0., 0., 0., ..., 0., 0., 0.], dtype=float32),\n",
              " 2825538426: array([0., 0., 0., ..., 0., 0., 0.], dtype=float32),\n",
              " 1165875929769492481: array([0., 0., 0., ..., 0., 0., 0.], dtype=float32),\n",
              " 42995067: array([0., 0., 0., ..., 0., 0., 0.], dtype=float32),\n",
              " 216199665: array([0., 0., 0., ..., 0., 0., 0.], dtype=float32),\n",
              " 1093204058775715847: array([0., 0., 0., ..., 0., 0., 0.], dtype=float32),\n",
              " 4532500755: array([0., 0., 0., ..., 0., 0., 0.], dtype=float32),\n",
              " 834382784311468033: array([0., 0., 0., ..., 0., 0., 0.], dtype=float32),\n",
              " 940698337: array([0., 0., 0., ..., 0., 0., 0.], dtype=float32),\n",
              " 4252257947: array([0., 0., 0., ..., 0., 0., 0.], dtype=float32),\n",
              " 887418059501305858: array([0., 0., 0., ..., 0., 0., 0.], dtype=float32),\n",
              " 731991453673488384: array([0., 0., 0., ..., 0., 0., 0.], dtype=float32),\n",
              " 2989553946: array([0., 0., 0., ..., 0., 0., 0.], dtype=float32),\n",
              " 1075153372062334976: array([0., 0., 0., ..., 0., 0., 0.], dtype=float32),\n",
              " 2901829106: array([0., 0., 0., ..., 0., 0., 0.], dtype=float32),\n",
              " 4376693483: array([0., 0., 0., ..., 0., 0., 0.], dtype=float32),\n",
              " 842190815883476992: array([0., 0., 0., ..., 0., 0., 0.], dtype=float32),\n",
              " 919025262884515840: array([0., 0., 0., ..., 0., 0., 0.], dtype=float32),\n",
              " 1025720316335665155: array([0., 0., 0., ..., 0., 0., 0.], dtype=float32),\n",
              " 241201438: array([0., 0., 0., ..., 0., 0., 0.], dtype=float32),\n",
              " 17928897: array([0., 0., 0., ..., 0., 0., 0.], dtype=float32),\n",
              " 178868177: array([0., 0., 0., ..., 0., 0., 0.], dtype=float32),\n",
              " 1023643742631350272: array([0., 0., 0., ..., 0., 0., 0.], dtype=float32),\n",
              " 759251: array([0., 0., 0., ..., 0., 0., 0.], dtype=float32),\n",
              " 1165692411777114112: array([0., 0., 0., ..., 0., 0., 0.], dtype=float32),\n",
              " 2511701310: array([0., 0., 0., ..., 0., 0., 0.], dtype=float32),\n",
              " 36116315: array([0., 0., 0., ..., 0., 0., 0.], dtype=float32),\n",
              " 879948106313412609: array([0., 0., 0., ..., 0., 0., 0.], dtype=float32),\n",
              " 925771313414852608: array([0., 0., 0., ..., 0., 0., 0.], dtype=float32),\n",
              " 498706012: array([0., 0., 0., ..., 0., 0., 0.], dtype=float32),\n",
              " 254240960: array([0., 0., 0., ..., 0., 0., 0.], dtype=float32),\n",
              " 121224595: array([0., 0., 0., ..., 0., 0., 0.], dtype=float32),\n",
              " 199381613: array([0., 0., 0., ..., 0., 0., 0.], dtype=float32),\n",
              " 2919866056: array([0., 0., 0., ..., 0., 0., 0.], dtype=float32),\n",
              " 2195213827: array([0., 0., 0., ..., 0., 0., 0.], dtype=float32),\n",
              " 601974819: array([0., 0., 0., ..., 0., 0., 0.], dtype=float32),\n",
              " 24273542: array([0., 0., 0., ..., 0., 0., 0.], dtype=float32),\n",
              " 75622661: array([0., 0., 0., ..., 0., 0., 0.], dtype=float32),\n",
              " 309430373: array([0., 0., 0., ..., 0., 0., 0.], dtype=float32),\n",
              " 72410473: array([0., 0., 0., ..., 0., 0., 0.], dtype=float32),\n",
              " 935409645258240000: array([0., 0., 0., ..., 0., 0., 0.], dtype=float32),\n",
              " 179192882: array([0., 0., 0., ..., 0., 0., 0.], dtype=float32),\n",
              " 14515799: array([0., 0., 0., ..., 0., 0., 0.], dtype=float32),\n",
              " 29093590: array([0., 0., 0., ..., 0., 0., 0.], dtype=float32),\n",
              " 836863099588202496: array([0., 0., 0., ..., 0., 0., 0.], dtype=float32),\n",
              " 285088108: array([0., 0., 0., ..., 0., 0., 0.], dtype=float32),\n",
              " 989743453: array([0., 0., 0., ..., 0., 0., 0.], dtype=float32),\n",
              " 15012486: array([0., 0., 0., ..., 0., 0., 0.], dtype=float32),\n",
              " 1187798065: array([0., 0., 0., ..., 0., 0., 0.], dtype=float32),\n",
              " 2220799460: array([0., 0., 0., ..., 0., 0., 0.], dtype=float32),\n",
              " 289874434: array([0., 0., 0., ..., 0., 0., 0.], dtype=float32),\n",
              " 44199805: array([0., 0., 0., ..., 0., 0., 0.], dtype=float32),\n",
              " 1240807940: array([0., 0., 0., ..., 0., 0., 0.], dtype=float32),\n",
              " 965673324905881601: array([0., 0., 0., ..., 0., 0., 0.], dtype=float32),\n",
              " 1132871230221148160: array([0., 0., 0., ..., 0., 0., 0.], dtype=float32),\n",
              " 1103454569521180678: array([0., 0., 0., ..., 0., 0., 0.], dtype=float32),\n",
              " 3074086756: array([0., 0., 0., ..., 0., 0., 0.], dtype=float32),\n",
              " 60197886: array([0., 0., 0., ..., 0., 0., 0.], dtype=float32),\n",
              " 256225110: array([0., 0., 0., ..., 0., 0., 0.], dtype=float32),\n",
              " 834635170137460736: array([0., 0., 0., ..., 0., 0., 0.], dtype=float32),\n",
              " 512417432: array([0., 0., 0., ..., 0., 0., 0.], dtype=float32),\n",
              " 257339683: array([0., 0., 0., ..., 0., 0., 0.], dtype=float32),\n",
              " 839687544702894081: array([0., 0., 0., ..., 0., 0., 0.], dtype=float32),\n",
              " 3397302425: array([0., 0., 0., ..., 0., 0., 0.], dtype=float32),\n",
              " 34749164: array([0., 0., 0., ..., 0., 0., 0.], dtype=float32),\n",
              " 1172736728970473473: array([0., 0., 0., ..., 0., 0., 0.], dtype=float32),\n",
              " 933339893652213761: array([0., 0., 0., ..., 0., 0., 0.], dtype=float32),\n",
              " 1370986902: array([0., 0., 0., ..., 0., 0., 0.], dtype=float32),\n",
              " 883111117073133573: array([0., 0., 0., ..., 0., 0., 0.], dtype=float32),\n",
              " 1110322581821771776: array([0., 0., 0., ..., 0., 0., 0.], dtype=float32),\n",
              " 1104353458520551425: array([0., 0., 0., ..., 0., 0., 0.], dtype=float32),\n",
              " 22449601: array([0., 0., 0., ..., 0., 0., 0.], dtype=float32),\n",
              " 3223426134: array([0., 0., 0., ..., 0., 0., 0.], dtype=float32),\n",
              " 873960442586116097: array([0., 0., 0., ..., 0., 0., 0.], dtype=float32),\n",
              " 873458310544060416: array([0., 0., 0., ..., 0., 0., 0.], dtype=float32),\n",
              " 224221596: array([0., 0., 0., ..., 0., 0., 0.], dtype=float32),\n",
              " 121493492: array([0., 0., 0., ..., 0., 0., 0.], dtype=float32),\n",
              " 701943416679112708: array([0., 0., 0., ..., 0., 0., 0.], dtype=float32),\n",
              " 1034122190: array([0., 0., 0., ..., 0., 0., 0.], dtype=float32),\n",
              " 256654208: array([0., 0., 0., ..., 0., 0., 0.], dtype=float32),\n",
              " 994559584718196737: array([0., 0., 0., ..., 0., 0., 0.], dtype=float32),\n",
              " 2809987474: array([0., 0., 0., ..., 0., 0., 0.], dtype=float32),\n",
              " 408845472: array([0., 0., 0., ..., 0., 0., 0.], dtype=float32),\n",
              " 735715789: array([0., 0., 0., ..., 0., 0., 0.], dtype=float32),\n",
              " 201426361: array([0., 0., 0., ..., 0., 0., 0.], dtype=float32),\n",
              " 17390242: array([0., 0., 0., ..., 0., 0., 0.], dtype=float32),\n",
              " 968986689908588544: array([0., 0., 0., ..., 0., 0., 0.], dtype=float32),\n",
              " 41772727: array([0., 0., 0., ..., 0., 0., 0.], dtype=float32),\n",
              " 1011523744827928577: array([0., 0., 0., ..., 0., 0., 0.], dtype=float32),\n",
              " 4063808659: array([0., 0., 0., ..., 0., 0., 0.], dtype=float32),\n",
              " 446160068: array([0., 0., 0., ..., 0., 0., 0.], dtype=float32),\n",
              " 725119417466687488: array([0., 0., 0., ..., 0., 0., 0.], dtype=float32),\n",
              " 2863996955: array([0., 0., 0., ..., 0., 0., 0.], dtype=float32),\n",
              " 936999587331444736: array([0., 0., 0., ..., 0., 0., 0.], dtype=float32),\n",
              " 1011922734790651904: array([0., 0., 0., ..., 0., 0., 0.], dtype=float32),\n",
              " 1130978329664806912: array([0., 0., 0., ..., 0., 0., 0.], dtype=float32),\n",
              " 71007549: array([0., 0., 0., ..., 0., 0., 0.], dtype=float32),\n",
              " 775023197557317632: array([0., 0., 0., ..., 0., 0., 0.], dtype=float32),\n",
              " 777918905817772032: array([0., 0., 0., ..., 0., 0., 0.], dtype=float32),\n",
              " 815311057: array([0., 0., 0., ..., 0., 0., 0.], dtype=float32),\n",
              " 858710836684128256: array([0.  , 0.  , 0.  , ..., 0.  , 0.01, 0.  ], dtype=float32),\n",
              " 1105439472861220868: array([0., 0., 0., ..., 0., 0., 0.], dtype=float32),\n",
              " 1189170828862279680: array([0., 0., 0., ..., 0., 0., 0.], dtype=float32),\n",
              " 2884385498: array([0., 0., 0., ..., 0., 0., 0.], dtype=float32),\n",
              " 3010925149: array([0., 0., 0., ..., 0., 0., 0.], dtype=float32),\n",
              " 1147679533484728320: array([0., 0., 0., ..., 0., 0., 0.], dtype=float32),\n",
              " 19203967: array([0., 0., 0., ..., 0., 0., 0.], dtype=float32),\n",
              " 333740603: array([0., 0., 0., ..., 0., 0., 0.], dtype=float32),\n",
              " 707231479047315456: array([0., 0., 0., ..., 0., 0., 0.], dtype=float32),\n",
              " 719066700537208832: array([0., 0., 0., ..., 0., 0., 0.], dtype=float32),\n",
              " 895441357963239424: array([0., 0., 0., ..., 0., 0., 0.], dtype=float32),\n",
              " 706277262: array([0., 0., 0., ..., 0., 0., 0.], dtype=float32),\n",
              " 838599703189196800: array([0., 0., 0., ..., 0., 0., 0.], dtype=float32),\n",
              " 714026831: array([0., 0., 0., ..., 0., 0., 0.], dtype=float32),\n",
              " 881496407743639553: array([0., 0., 0., ..., 0., 0., 0.], dtype=float32),\n",
              " 125376415: array([0., 0., 0., ..., 0., 0., 0.], dtype=float32),\n",
              " 125068996: array([0., 0., 0., ..., 0., 0., 0.], dtype=float32),\n",
              " 175260313: array([0., 0., 0., ..., 0., 0., 0.], dtype=float32),\n",
              " 19265093: array([0., 0., 0., ..., 0., 0., 0.], dtype=float32),\n",
              " 1196250030190915584: array([0., 0., 0., ..., 0., 0., 0.], dtype=float32),\n",
              " 392507032: array([0., 0., 0., ..., 0., 0., 0.], dtype=float32),\n",
              " 4884762153: array([0., 0., 0., ..., 0., 0., 0.], dtype=float32),\n",
              " 48245856: array([0., 0., 0., ..., 0., 0., 0.], dtype=float32),\n",
              " 4221263560: array([0., 0., 0., ..., 0., 0., 0.], dtype=float32),\n",
              " 148606891: array([0., 0., 0., ..., 0., 0., 0.], dtype=float32),\n",
              " 1131333005065109504: array([0., 0., 0., ..., 0., 0., 0.], dtype=float32),\n",
              " 861629091010752512: array([0., 0., 0., ..., 0., 0., 0.], dtype=float32),\n",
              " 58355708: array([0., 0., 0., ..., 0., 0., 0.], dtype=float32),\n",
              " 369908459: array([0., 0., 0., ..., 0., 0., 0.], dtype=float32),\n",
              " 949155323138293760: array([0., 0., 0., ..., 0., 0., 0.], dtype=float32),\n",
              " 3821122115: array([0., 0., 0., ..., 0., 0., 0.], dtype=float32),\n",
              " 41826118: array([0., 0., 0., ..., 0., 0., 0.], dtype=float32),\n",
              " 100402673: array([0., 0., 0., ..., 0., 0., 0.], dtype=float32),\n",
              " 943442594222264321: array([0., 0., 0., ..., 0., 0., 0.], dtype=float32),\n",
              " 312322550: array([0., 0., 0., ..., 0., 0., 0.], dtype=float32),\n",
              " 954723132: array([0.  , 0.  , 0.01, ..., 0.  , 0.  , 0.  ], dtype=float32),\n",
              " 1656437108: array([0., 0., 0., ..., 0., 0., 0.], dtype=float32),\n",
              " 850050929533620224: array([0., 0., 0., ..., 0., 0., 0.], dtype=float32),\n",
              " 2584446344: array([0., 0., 0., ..., 0., 0., 0.], dtype=float32),\n",
              " 196168350: array([0., 0., 0., ..., 0., 0., 0.], dtype=float32),\n",
              " 1167362935653634048: array([0., 0., 0., ..., 0., 0., 0.], dtype=float32),\n",
              " 16220934: array([0., 0., 0., ..., 0., 0., 0.], dtype=float32),\n",
              " 1134997124452704257: array([0., 0., 0., ..., 0., 0., 0.], dtype=float32),\n",
              " 1092201403861397507: array([0., 0., 0., ..., 0., 0., 0.], dtype=float32),\n",
              " 109620165: array([0., 0., 0., ..., 0., 0., 0.], dtype=float32),\n",
              " 19041310: array([0., 0., 0., ..., 0., 0., 0.], dtype=float32),\n",
              " 1070106038072946693: array([0., 0., 0., ..., 0., 0., 0.], dtype=float32),\n",
              " 969368234389483520: array([0., 0., 0., ..., 0., 0., 0.], dtype=float32),\n",
              " 46851133: array([0., 0., 0., ..., 0., 0., 0.], dtype=float32),\n",
              " 39484903: array([0.  , 0.  , 0.01, ..., 0.  , 0.  , 0.  ], dtype=float32),\n",
              " 725207810871578624: array([0., 0., 0., ..., 0., 0., 0.], dtype=float32),\n",
              " 459799283: array([0., 0., 0., ..., 0., 0., 0.], dtype=float32),\n",
              " 1324565629: array([0., 0., 0., ..., 0., 0., 0.], dtype=float32),\n",
              " 35387223: array([0., 0., 0., ..., 0., 0., 0.], dtype=float32),\n",
              " 116323453: array([0., 0., 0., ..., 0., 0., 0.], dtype=float32),\n",
              " 835556232643620864: array([0., 0., 0., ..., 0., 0., 0.], dtype=float32),\n",
              " 73355822: array([0., 0., 0., ..., 0., 0., 0.], dtype=float32),\n",
              " 2768271223: array([0., 0., 0., ..., 0., 0., 0.], dtype=float32),\n",
              " 58309829: array([0., 0., 0., ..., 0., 0., 0.], dtype=float32),\n",
              " 17195540: array([0., 0., 0., ..., 0., 0., 0.], dtype=float32),\n",
              " 701597426755440640: array([0., 0., 0., ..., 0., 0., 0.], dtype=float32),\n",
              " 166747718: array([0., 0., 0., ..., 0., 0., 0.], dtype=float32),\n",
              " 424275527: array([0., 0., 0., ..., 0., 0., 0.], dtype=float32),\n",
              " 248757465: array([0., 0., 0., ..., 0., 0., 0.], dtype=float32),\n",
              " 787392577: array([0., 0., 0., ..., 0., 0., 0.], dtype=float32),\n",
              " 18025035: array([0., 0., 0., ..., 0., 0., 0.], dtype=float32),\n",
              " 1163556061497966592: array([0., 0., 0., ..., 0., 0., 0.], dtype=float32),\n",
              " 110646821: array([0., 0., 0., ..., 0., 0., 0.], dtype=float32),\n",
              " 317402880: array([0., 0., 0., ..., 0., 0., 0.], dtype=float32),\n",
              " 971288539: array([0., 0., 0., ..., 0., 0., 0.], dtype=float32),\n",
              " 38196446: array([0., 0., 0., ..., 0., 0., 0.], dtype=float32),\n",
              " 2880299567: array([0., 0., 0., ..., 0., 0., 0.], dtype=float32),\n",
              " 20138647: array([0., 0., 0., ..., 0., 0., 0.], dtype=float32),\n",
              " 33736525: array([0., 0., 0., ..., 0., 0., 0.], dtype=float32),\n",
              " 870646641291911168: array([0., 0., 0., ..., 0., 0., 0.], dtype=float32),\n",
              " 887071990326210560: array([0., 0., 0., ..., 0., 0., 0.], dtype=float32),\n",
              " 1008765911514349568: array([0., 0., 0., ..., 0., 0., 0.], dtype=float32),\n",
              " 30238337: array([0.  , 0.  , 0.  , ..., 0.01, 0.  , 0.  ], dtype=float32),\n",
              " 1029510385316057088: array([0., 0., 0., ..., 0., 0., 0.], dtype=float32),\n",
              " 1944881082: array([0., 0., 0., ..., 0., 0., 0.], dtype=float32),\n",
              " 78173848: array([0., 0., 0., ..., 0., 0., 0.], dtype=float32),\n",
              " 2726767019: array([0., 0., 0., ..., 0., 0., 0.], dtype=float32),\n",
              " 1123861589445218304: array([0., 0., 0., ..., 0., 0., 0.], dtype=float32),\n",
              " 25052538: array([0., 0., 0., ..., 0., 0., 0.], dtype=float32),\n",
              " 25878303: array([0., 0., 0., ..., 0., 0., 0.], dtype=float32),\n",
              " 119263820: array([0., 0., 0., ..., 0., 0., 0.], dtype=float32),\n",
              " 60783724: array([0., 0., 0., ..., 0., 0., 0.], dtype=float32),\n",
              " 739179622676496384: array([0., 0., 0., ..., 0., 0., 0.], dtype=float32),\n",
              " 213757130: array([0., 0., 0., ..., 0., 0., 0.], dtype=float32),\n",
              " 154372296: array([0., 0., 0., ..., 0., 0., 0.], dtype=float32),\n",
              " 558043556: array([0., 0., 0., ..., 0., 0., 0.], dtype=float32),\n",
              " 842743444414107650: array([0., 0., 0., ..., 0., 0., 0.], dtype=float32),\n",
              " 1196322924870782976: array([0., 0., 0., ..., 0., 0., 0.], dtype=float32),\n",
              " 1128403766955450369: array([0., 0., 0., ..., 0., 0., 0.], dtype=float32),\n",
              " 2447762588: array([0., 0., 0., ..., 0., 0., 0.], dtype=float32),\n",
              " 1468502053: array([0., 0., 0., ..., 0., 0., 0.], dtype=float32),\n",
              " 3638617094: array([0., 0., 0., ..., 0., 0., 0.], dtype=float32),\n",
              " 869675796075622400: array([0., 0., 0., ..., 0., 0., 0.], dtype=float32),\n",
              " 1071606513901260800: array([0., 0., 0., ..., 0., 0., 0.], dtype=float32),\n",
              " 298747756: array([0., 0., 0., ..., 0., 0., 0.], dtype=float32),\n",
              " 450904322: array([0., 0., 0., ..., 0., 0., 0.], dtype=float32),\n",
              " 998427427750559745: array([0., 0., 0., ..., 0., 0., 0.], dtype=float32),\n",
              " 430881791: array([0., 0., 0., ..., 0., 0., 0.], dtype=float32),\n",
              " 380500992: array([0., 0., 0., ..., 0., 0., 0.], dtype=float32),\n",
              " 802904976804683776: array([0., 0., 0., ..., 0., 0., 0.], dtype=float32),\n",
              " 1061144477820116994: array([0., 0., 0., ..., 0., 0., 0.], dtype=float32),\n",
              " 154316034: array([0., 0., 0., ..., 0., 0., 0.], dtype=float32),\n",
              " 282619153: array([0., 0., 0., ..., 0., 0., 0.], dtype=float32),\n",
              " 3063351641: array([0., 0., 0., ..., 0., 0., 0.], dtype=float32),\n",
              " 64643056: array([0., 0., 0., ..., 0., 0., 0.], dtype=float32),\n",
              " 1180925885907701760: array([0., 0., 0., ..., 0., 0., 0.], dtype=float32),\n",
              " 423043086: array([0., 0., 0., ..., 0., 0., 0.], dtype=float32),\n",
              " 1035016556: array([0., 0., 0., ..., 0., 0., 0.], dtype=float32),\n",
              " 339321266: array([0., 0., 0., ..., 0., 0., 0.], dtype=float32),\n",
              " 3028481326: array([0., 0., 0., ..., 0., 0., 0.], dtype=float32),\n",
              " 203697979: array([0., 0., 0., ..., 0., 0., 0.], dtype=float32),\n",
              " 939178694349688833: array([0., 0., 0., ..., 0., 0., 0.], dtype=float32),\n",
              " 266278124: array([0., 0., 0., ..., 0., 0., 0.], dtype=float32),\n",
              " 731974303848206336: array([0., 0., 0., ..., 0., 0., 0.], dtype=float32),\n",
              " 356446218: array([0., 0., 0., ..., 0., 0., 0.], dtype=float32),\n",
              " 66989897: array([0., 0., 0., ..., 0., 0., 0.], dtype=float32),\n",
              " 1110031553357242368: array([0., 0., 0., ..., 0., 0., 0.], dtype=float32),\n",
              " 2994399496: array([0., 0., 0., ..., 0., 0., 0.], dtype=float32),\n",
              " 345133819: array([0., 0., 0., ..., 0., 0., 0.], dtype=float32),\n",
              " 1149850884152745984: array([0., 0., 0., ..., 0., 0., 0.], dtype=float32),\n",
              " 528265451: array([0., 0., 0., ..., 0., 0., 0.], dtype=float32),\n",
              " 1099841593: array([0., 0., 0., ..., 0., 0., 0.], dtype=float32),\n",
              " 1159057465750818816: array([0., 0., 0., ..., 0., 0., 0.], dtype=float32),\n",
              " 50909362: array([0., 0., 0., ..., 0., 0., 0.], dtype=float32),\n",
              " 163544534: array([0., 0., 0., ..., 0., 0., 0.], dtype=float32),\n",
              " 18382184: array([0., 0., 0., ..., 0., 0., 0.], dtype=float32),\n",
              " 893242975: array([0., 0., 0., ..., 0., 0., 0.], dtype=float32),\n",
              " 1168299844320092161: array([0., 0., 0., ..., 0., 0., 0.], dtype=float32),\n",
              " 1066970562: array([0., 0., 0., ..., 0., 0., 0.], dtype=float32),\n",
              " 392282324: array([0., 0., 0., ..., 0., 0., 0.], dtype=float32),\n",
              " 880018682: array([0., 0., 0., ..., 0., 0., 0.], dtype=float32),\n",
              " 177972516: array([0., 0., 0., ..., 0., 0., 0.], dtype=float32),\n",
              " 183095785: array([0., 0., 0., ..., 0., 0., 0.], dtype=float32),\n",
              " 2606612806: array([0., 0., 0., ..., 0., 0., 0.], dtype=float32),\n",
              " 60239227: array([0., 0., 0., ..., 0., 0., 0.], dtype=float32),\n",
              " 1101312387003617281: array([0., 0., 0., ..., 0., 0., 0.], dtype=float32),\n",
              " 80338659: array([0., 0., 0., ..., 0., 0., 0.], dtype=float32),\n",
              " 2363289636: array([0., 0., 0., ..., 0., 0., 0.], dtype=float32),\n",
              " 3320011566: array([0., 0., 0., ..., 0., 0., 0.], dtype=float32),\n",
              " 76842602: array([0., 0., 0., ..., 0., 0., 0.], dtype=float32),\n",
              " 386237700: array([0., 0., 0., ..., 0., 0., 0.], dtype=float32),\n",
              " 2587252734: array([0., 0., 0., ..., 0., 0., 0.], dtype=float32),\n",
              " 1852487882: array([0., 0., 0., ..., 0., 0., 0.], dtype=float32),\n",
              " 1089220297008521216: array([0., 0., 0., ..., 0., 0., 0.], dtype=float32),\n",
              " 4806736076: array([0., 0., 0., ..., 0., 0., 0.], dtype=float32),\n",
              " 1104947961438527488: array([0., 0., 0., ..., 0., 0., 0.], dtype=float32),\n",
              " 3040732982: array([0., 0., 0., ..., 0., 0., 0.], dtype=float32),\n",
              " 2545152558: array([0., 0., 0., ..., 0., 0., 0.], dtype=float32),\n",
              " 223080656: array([0., 0., 0., ..., 0., 0., 0.], dtype=float32),\n",
              " 353437747: array([0., 0., 0., ..., 0., 0., 0.], dtype=float32),\n",
              " 22093573: array([0., 0., 0., ..., 0., 0., 0.], dtype=float32),\n",
              " 58267384: array([0., 0., 0., ..., 0., 0., 0.], dtype=float32),\n",
              " 46241737: array([0., 0., 0., ..., 0., 0., 0.], dtype=float32),\n",
              " 125530508: array([0., 0., 0., ..., 0., 0., 0.], dtype=float32),\n",
              " 950953781872791552: array([0., 0., 0., ..., 0., 0., 0.], dtype=float32),\n",
              " 265558790: array([0., 0., 0., ..., 0., 0., 0.], dtype=float32),\n",
              " 786528525293498368: array([0., 0., 0., ..., 0., 0., 0.], dtype=float32),\n",
              " 2316383071: array([0., 0., 0., ..., 0., 0., 0.], dtype=float32),\n",
              " 3919803975: array([0., 0., 0., ..., 0., 0., 0.], dtype=float32),\n",
              " 707538269446213632: array([0., 0., 0., ..., 0., 0., 0.], dtype=float32),\n",
              " 1163136079005986817: array([0., 0., 0., ..., 0., 0., 0.], dtype=float32),\n",
              " 48937665: array([0., 0., 0., ..., 0., 0., 0.], dtype=float32),\n",
              " 2732027121: array([0., 0., 0., ..., 0., 0., 0.], dtype=float32),\n",
              " 939577811140009984: array([0., 0., 0., ..., 0., 0., 0.], dtype=float32),\n",
              " 1026545559782543360: array([0., 0., 0., ..., 0., 0., 0.], dtype=float32),\n",
              " 893571681524088832: array([0., 0., 0., ..., 0., 0., 0.], dtype=float32),\n",
              " 9790982: array([0., 0., 0., ..., 0., 0., 0.], dtype=float32),\n",
              " 296117582: array([0., 0., 0., ..., 0., 0., 0.], dtype=float32),\n",
              " 878247600096509952: array([0., 0., 0., ..., 0., 0., 0.], dtype=float32),\n",
              " 287662399: array([0., 0., 0., ..., 0., 0., 0.], dtype=float32),\n",
              " 999712583627235329: array([0., 0., 0., ..., 0., 0., 0.], dtype=float32),\n",
              " 219994858: array([0., 0., 0., ..., 0., 0., 0.], dtype=float32),\n",
              " 1168368656788545536: array([0., 0., 0., ..., 0., 0., 0.], dtype=float32),\n",
              " 2678517787: array([0., 0., 0., ..., 0., 0., 0.], dtype=float32),\n",
              " 905305314102308864: array([0., 0., 0., ..., 0., 0., 0.], dtype=float32),\n",
              " 573437253: array([0., 0., 0., ..., 0., 0., 0.], dtype=float32),\n",
              " 31608609: array([0., 0., 0., ..., 0., 0., 0.], dtype=float32),\n",
              " 991698231095648256: array([0., 0., 0., ..., 0., 0., 0.], dtype=float32),\n",
              " 86715012: array([0., 0., 0., ..., 0., 0., 0.], dtype=float32),\n",
              " 93821803: array([0., 0., 0., ..., 0., 0., 0.], dtype=float32),\n",
              " 1217427362: array([0., 0., 0., ..., 0., 0., 0.], dtype=float32),\n",
              " 923508603318759429: array([0., 0., 0., ..., 0., 0., 0.], dtype=float32),\n",
              " 3989904917: array([0., 0., 0., ..., 0., 0., 0.], dtype=float32),\n",
              " 46997814: array([0., 0., 0., ..., 0., 0., 0.], dtype=float32),\n",
              " 63537311: array([0., 0., 0., ..., 0., 0., 0.], dtype=float32),\n",
              " 1152149142761889796: array([0., 0., 0., ..., 0., 0., 0.], dtype=float32),\n",
              " 2937485985: array([0., 0., 0., ..., 0., 0., 0.], dtype=float32),\n",
              " 2285400479: array([0., 0., 0., ..., 0., 0., 0.], dtype=float32),\n",
              " 208185775: array([0., 0., 0., ..., 0., 0., 0.], dtype=float32),\n",
              " 1097707848329580544: array([0., 0., 0., ..., 0., 0., 0.], dtype=float32),\n",
              " 1097920111728570369: array([0., 0., 0., ..., 0., 0., 0.], dtype=float32),\n",
              " 207696746: array([0., 0., 0., ..., 0., 0., 0.], dtype=float32),\n",
              " 1112278827932110848: array([0., 0., 0., ..., 0., 0., 0.], dtype=float32),\n",
              " 761389837085585408: array([0., 0., 0., ..., 0., 0., 0.], dtype=float32),\n",
              " 410972730: array([0., 0., 0., ..., 0., 0., 0.], dtype=float32),\n",
              " 2567114180: array([0., 0., 0., ..., 0., 0., 0.], dtype=float32),\n",
              " 173791530: array([0., 0., 0., ..., 0., 0., 0.], dtype=float32),\n",
              " 24026321: array([0., 0., 0., ..., 0., 0., 0.], dtype=float32),\n",
              " 1062827107548569600: array([0., 0., 0., ..., 0., 0., 0.], dtype=float32),\n",
              " 271783140: array([0., 0., 0., ..., 0., 0., 0.], dtype=float32),\n",
              " 2780911982: array([0., 0., 0., ..., 0., 0., 0.], dtype=float32),\n",
              " 3431536845: array([0., 0., 0., ..., 0., 0., 0.], dtype=float32),\n",
              " 2261509206: array([0., 0., 0., ..., 0., 0., 0.], dtype=float32),\n",
              " 1330942016: array([0., 0., 0., ..., 0., 0., 0.], dtype=float32),\n",
              " 2879039050: array([0., 0., 0., ..., 0., 0., 0.], dtype=float32),\n",
              " 392907625: array([0., 0., 0., ..., 0., 0., 0.], dtype=float32),\n",
              " 2862158084: array([0., 0., 0., ..., 0., 0., 0.], dtype=float32),\n",
              " 1093769448: array([0., 0., 0., ..., 0., 0., 0.], dtype=float32),\n",
              " 1147156178549530624: array([0., 0., 0., ..., 0., 0., 0.], dtype=float32),\n",
              " 723428034: array([0., 0., 0., ..., 0., 0., 0.], dtype=float32),\n",
              " 112217137: array([0., 0., 0., ..., 0., 0., 0.], dtype=float32),\n",
              " 3029243374: array([0., 0., 0., ..., 0., 0., 0.], dtype=float32),\n",
              " 1081887888: array([0., 0., 0., ..., 0., 0., 0.], dtype=float32),\n",
              " 21020622: array([0., 0., 0., ..., 0., 0., 0.], dtype=float32),\n",
              " 515657762: array([0., 0., 0., ..., 0., 0., 0.], dtype=float32),\n",
              " 982051769969758209: array([0., 0., 0., ..., 0., 0., 0.], dtype=float32),\n",
              " 1147179861078872065: array([0., 0., 0., ..., 0., 0., 0.], dtype=float32),\n",
              " 1185887594455941120: array([0., 0., 0., ..., 0., 0., 0.], dtype=float32),\n",
              " 382093851: array([0.01, 0.01, 0.  , ..., 0.  , 0.  , 0.  ], dtype=float32),\n",
              " 53529656: array([0., 0., 0., ..., 0., 0., 0.], dtype=float32),\n",
              " 1099816442101297153: array([0., 0., 0., ..., 0., 0., 0.], dtype=float32),\n",
              " 1036359224975138818: array([0., 0., 0., ..., 0., 0., 0.], dtype=float32),\n",
              " 351321906: array([0., 0., 0., ..., 0., 0., 0.], dtype=float32),\n",
              " 186454582: array([0., 0., 0., ..., 0., 0., 0.], dtype=float32),\n",
              " 57442980: array([0., 0., 0., ..., 0., 0., 0.], dtype=float32),\n",
              " 792728328662908928: array([0., 0., 0., ..., 0., 0., 0.], dtype=float32),\n",
              " 24338525: array([0., 0., 0., ..., 0., 0., 0.], dtype=float32),\n",
              " 23359769: array([0., 0., 0., ..., 0., 0., 0.], dtype=float32),\n",
              " 24398154: array([0., 0., 0., ..., 0., 0., 0.], dtype=float32),\n",
              " 1571482309: array([0., 0., 0., ..., 0., 0., 0.], dtype=float32),\n",
              " 224703564: array([0., 0., 0., ..., 0., 0., 0.], dtype=float32),\n",
              " 19739126: array([0., 0., 0., ..., 0., 0., 0.], dtype=float32),\n",
              " 700840910334996480: array([0., 0., 0., ..., 0., 0., 0.], dtype=float32),\n",
              " 936834090233401344: array([0., 0., 0., ..., 0., 0., 0.], dtype=float32),\n",
              " 10126672: array([0., 0., 0., ..., 0., 0., 0.], dtype=float32),\n",
              " 797891689767641088: array([0., 0., 0., ..., 0., 0., 0.], dtype=float32),\n",
              " 433633003: array([0., 0., 0., ..., 0., 0., 0.], dtype=float32),\n",
              " 880624089253244929: array([0., 0., 0., ..., 0., 0., 0.], dtype=float32),\n",
              " 1163617576401952770: array([0., 0., 0., ..., 0., 0., 0.], dtype=float32),\n",
              " 236488407: array([0., 0., 0., ..., 0., 0., 0.], dtype=float32),\n",
              " 1117223597536190464: array([0., 0., 0., ..., 0., 0., 0.], dtype=float32),\n",
              " 1188820881453092864: array([0., 0., 0., ..., 0., 0., 0.], dtype=float32),\n",
              " 28970475: array([0., 0., 0., ..., 0., 0., 0.], dtype=float32),\n",
              " 819756900: array([0., 0., 0., ..., 0., 0., 0.], dtype=float32),\n",
              " 21125726: array([0., 0., 0., ..., 0., 0., 0.], dtype=float32),\n",
              " 260810975: array([0., 0., 0., ..., 0., 0., 0.], dtype=float32),\n",
              " 1188917736: array([0.  , 0.  , 0.  , ..., 0.01, 0.  , 0.  ], dtype=float32),\n",
              " 1126205212304211969: array([0., 0., 0., ..., 0., 0., 0.], dtype=float32),\n",
              " 1064717803: array([0., 0., 0., ..., 0., 0., 0.], dtype=float32),\n",
              " 1049801507661651970: array([0., 0., 0., ..., 0., 0., 0.], dtype=float32),\n",
              " 34350667: array([0., 0., 0., ..., 0., 0., 0.], dtype=float32),\n",
              " 1102509385547476992: array([0., 0., 0., ..., 0., 0., 0.], dtype=float32),\n",
              " 1108289117182291970: array([0., 0., 0., ..., 0., 0., 0.], dtype=float32),\n",
              " 721412401: array([0., 0., 0., ..., 0., 0., 0.], dtype=float32),\n",
              " 2324472666: array([0., 0., 0., ..., 0., 0., 0.], dtype=float32),\n",
              " 1511371880: array([0., 0., 0., ..., 0., 0., 0.], dtype=float32),\n",
              " 286293324: array([0., 0., 0., ..., 0., 0., 0.], dtype=float32),\n",
              " 101004208: array([0., 0., 0., ..., 0., 0., 0.], dtype=float32),\n",
              " 200153839: array([0., 0., 0., ..., 0., 0., 0.], dtype=float32),\n",
              " 226400190: array([0., 0., 0., ..., 0., 0., 0.], dtype=float32),\n",
              " 72373874: array([0., 0., 0., ..., 0., 0., 0.], dtype=float32),\n",
              " 238709952: array([0., 0., 0., ..., 0., 0., 0.], dtype=float32),\n",
              " 568780180: array([0., 0., 0., ..., 0., 0., 0.], dtype=float32),\n",
              " 1316969515: array([0., 0., 0., ..., 0., 0., 0.], dtype=float32),\n",
              " 106682211: array([0., 0., 0., ..., 0., 0., 0.], dtype=float32),\n",
              " 288277167: array([0., 0., 0., ..., 0., 0., 0.], dtype=float32),\n",
              " 203034083: array([0., 0., 0., ..., 0., 0., 0.], dtype=float32),\n",
              " 1397478726: array([0., 0., 0., ..., 0., 0., 0.], dtype=float32),\n",
              " 351108759: array([0., 0., 0., ..., 0., 0., 0.], dtype=float32),\n",
              " 22208060: array([0., 0., 0., ..., 0., 0., 0.], dtype=float32),\n",
              " 909673932042543105: array([0., 0., 0., ..., 0., 0., 0.], dtype=float32),\n",
              " 850747214909423616: array([0., 0., 0., ..., 0., 0., 0.], dtype=float32),\n",
              " 456153921: array([0., 0., 0., ..., 0., 0., 0.], dtype=float32),\n",
              " 764858013836599296: array([0., 0., 0., ..., 0., 0., 0.], dtype=float32),\n",
              " 948535635144527872: array([0., 0., 0., ..., 0., 0., 0.], dtype=float32),\n",
              " 194352411: array([0., 0., 0., ..., 0., 0., 0.], dtype=float32),\n",
              " 833368225056440323: array([0., 0., 0., ..., 0., 0., 0.], dtype=float32),\n",
              " 1087419399169019905: array([0., 0., 0., ..., 0., 0., 0.], dtype=float32),\n",
              " 273963328: array([0., 0., 0., ..., 0., 0., 0.], dtype=float32),\n",
              " 243568099: array([0., 0., 0., ..., 0., 0., 0.], dtype=float32),\n",
              " 152423864: array([0., 0., 0., ..., 0., 0., 0.], dtype=float32),\n",
              " 298149289: array([0., 0., 0., ..., 0., 0., 0.], dtype=float32),\n",
              " 1046599215777042432: array([0., 0., 0., ..., 0., 0., 0.], dtype=float32),\n",
              " 934078792984813570: array([0.  , 0.  , 0.  , ..., 0.01, 0.  , 0.  ], dtype=float32),\n",
              " 2774831890: array([0., 0., 0., ..., 0., 0., 0.], dtype=float32),\n",
              " 826614774242897920: array([0., 0., 0., ..., 0., 0., 0.], dtype=float32),\n",
              " 24607541: array([0., 0., 0., ..., 0., 0., 0.], dtype=float32),\n",
              " 975436052109430784: array([0., 0., 0., ..., 0., 0., 0.], dtype=float32),\n",
              " 14511951: array([0., 0., 0., ..., 0., 0., 0.], dtype=float32),\n",
              " 1042786002409009153: array([0., 0., 0., ..., 0., 0., 0.], dtype=float32),\n",
              " 191550575: array([0., 0., 0., ..., 0., 0., 0.], dtype=float32),\n",
              " 41063062: array([0., 0., 0., ..., 0., 0., 0.], dtype=float32),\n",
              " 913650778480537600: array([0., 0., 0., ..., 0., 0., 0.], dtype=float32),\n",
              " 3192441942: array([0., 0., 0., ..., 0., 0., 0.], dtype=float32),\n",
              " 2846816302: array([0., 0., 0., ..., 0., 0., 0.], dtype=float32),\n",
              " 38479686: array([0., 0., 0., ..., 0., 0., 0.], dtype=float32),\n",
              " 1035726810565226496: array([0., 0., 0., ..., 0., 0., 0.], dtype=float32),\n",
              " 280445818: array([0., 0., 0., ..., 0., 0., 0.], dtype=float32),\n",
              " 1089372646775685120: array([0., 0., 0., ..., 0., 0., 0.], dtype=float32),\n",
              " 1248217056: array([0., 0., 0., ..., 0., 0., 0.], dtype=float32),\n",
              " 114050808: array([0., 0., 0., ..., 0., 0., 0.], dtype=float32),\n",
              " 16106701: array([0., 0., 0., ..., 0., 0., 0.], dtype=float32),\n",
              " 15745368: array([0., 0., 0., ..., 0., 0., 0.], dtype=float32),\n",
              " 43285392: array([0., 0., 0., ..., 0., 0., 0.], dtype=float32),\n",
              " 15335534: array([0., 0., 0., ..., 0., 0., 0.], dtype=float32),\n",
              " 57700994: array([0., 0., 0., ..., 0., 0., 0.], dtype=float32),\n",
              " 2629954330: array([0., 0., 0., ..., 0., 0., 0.], dtype=float32),\n",
              " 184697504: array([0., 0., 0., ..., 0., 0., 0.], dtype=float32),\n",
              " 165739894: array([0., 0., 0., ..., 0., 0., 0.], dtype=float32),\n",
              " 806263888270372864: array([0., 0., 0., ..., 0., 0., 0.], dtype=float32),\n",
              " 435130412: array([0., 0., 0., ..., 0., 0., 0.], dtype=float32),\n",
              " 735286410: array([0., 0., 0., ..., 0., 0., 0.], dtype=float32),\n",
              " 2888705320: array([0., 0., 0., ..., 0., 0., 0.], dtype=float32),\n",
              " 2823401212: array([0., 0., 0., ..., 0., 0., 0.], dtype=float32),\n",
              " 21176582: array([0., 0., 0., ..., 0., 0., 0.], dtype=float32),\n",
              " 399786262: array([0., 0., 0., ..., 0., 0., 0.], dtype=float32),\n",
              " 970711404272668672: array([0., 0., 0., ..., 0., 0., 0.], dtype=float32),\n",
              " 19930043: array([0., 0., 0., ..., 0., 0., 0.], dtype=float32),\n",
              " 3269528474: array([0., 0., 0., ..., 0., 0., 0.], dtype=float32),\n",
              " 892500273054314496: array([0., 0., 0., ..., 0., 0., 0.], dtype=float32),\n",
              " 1000176719502835712: array([0., 0., 0., ..., 0., 0., 0.], dtype=float32),\n",
              " 236068385: array([0., 0., 0., ..., 0., 0., 0.], dtype=float32),\n",
              " 549787167: array([0., 0., 0., ..., 0., 0., 0.], dtype=float32),\n",
              " 33346526: array([0., 0., 0., ..., 0., 0., 0.], dtype=float32),\n",
              " 1282055606: array([0., 0., 0., ..., 0., 0., 0.], dtype=float32),\n",
              " 2777086436: array([0., 0., 0., ..., 0., 0., 0.], dtype=float32),\n",
              " 1148332763596017664: array([0., 0., 0., ..., 0., 0., 0.], dtype=float32),\n",
              " 21549852: array([0., 0., 0., ..., 0., 0., 0.], dtype=float32),\n",
              " 27690151: array([0., 0., 0., ..., 0., 0., 0.], dtype=float32),\n",
              " 506776575: array([0., 0., 0., ..., 0., 0., 0.], dtype=float32),\n",
              " 4789453135: array([0., 0., 0., ..., 0., 0., 0.], dtype=float32),\n",
              " 934840919282642945: array([0., 0., 0., ..., 0., 0., 0.], dtype=float32),\n",
              " 1139858138: array([0., 0., 0., ..., 0., 0., 0.], dtype=float32),\n",
              " 1047731911261470720: array([0., 0., 0., ..., 0., 0., 0.], dtype=float32),\n",
              " 789156838872788992: array([0., 0., 0., ..., 0., 0., 0.], dtype=float32),\n",
              " 733533396391972864: array([0., 0., 0., ..., 0., 0., 0.], dtype=float32),\n",
              " 920818618430042112: array([0., 0., 0., ..., 0., 0., 0.], dtype=float32),\n",
              " 1026521351463624705: array([0., 0., 0., ..., 0., 0., 0.], dtype=float32),\n",
              " 28772053: array([0., 0., 0., ..., 0., 0., 0.], dtype=float32),\n",
              " 1000759300074061824: array([0., 0., 0., ..., 0., 0., 0.], dtype=float32),\n",
              " 241941306: array([0., 0., 0., ..., 0., 0., 0.], dtype=float32),\n",
              " 2221794589: array([0., 0., 0., ..., 0., 0., 0.], dtype=float32),\n",
              " 28253598: array([0., 0., 0., ..., 0., 0., 0.], dtype=float32),\n",
              " 839973181188419584: array([0., 0., 0., ..., 0., 0., 0.], dtype=float32),\n",
              " 889579715673161730: array([0., 0., 0., ..., 0., 0., 0.], dtype=float32),\n",
              " 973919089117859840: array([0., 0., 0., ..., 0., 0., 0.], dtype=float32),\n",
              " 28555588: array([0., 0., 0., ..., 0., 0., 0.], dtype=float32),\n",
              " 392889871: array([0., 0., 0., ..., 0., 0., 0.], dtype=float32),\n",
              " 82042794: array([0., 0., 0., ..., 0., 0., 0.], dtype=float32),\n",
              " 35109250: array([0., 0., 0., ..., 0., 0., 0.], dtype=float32),\n",
              " 437062387: array([0., 0., 0., ..., 0., 0., 0.], dtype=float32),\n",
              " 434177388: array([0., 0., 0., ..., 0., 0., 0.], dtype=float32),\n",
              " 709968481: array([0., 0., 0., ..., 0., 0., 0.], dtype=float32),\n",
              " 1083664548861788160: array([0., 0., 0., ..., 0., 0., 0.], dtype=float32),\n",
              " 146321514: array([0., 0., 0., ..., 0., 0., 0.], dtype=float32),\n",
              " 2733850451: array([0., 0., 0., ..., 0., 0., 0.], dtype=float32),\n",
              " 20022113: array([0., 0., 0., ..., 0., 0., 0.], dtype=float32),\n",
              " 703415640: array([0., 0., 0., ..., 0., 0., 0.], dtype=float32),\n",
              " 494741673: array([0., 0., 0., ..., 0., 0., 0.], dtype=float32),\n",
              " 488570442: array([0., 0., 0., ..., 0., 0., 0.], dtype=float32),\n",
              " 1153804530259288064: array([0., 0., 0., ..., 0., 0., 0.], dtype=float32),\n",
              " 921972560: array([0., 0., 0., ..., 0., 0., 0.], dtype=float32),\n",
              " 25723475: array([0., 0., 0., ..., 0., 0., 0.], dtype=float32),\n",
              " 759510850868830209: array([0., 0., 0., ..., 0., 0., 0.], dtype=float32),\n",
              " 1499004114: array([0., 0., 0., ..., 0., 0., 0.], dtype=float32),\n",
              " 1121425371763761152: array([0., 0., 0., ..., 0., 0., 0.], dtype=float32),\n",
              " 362719131: array([0., 0., 0., ..., 0., 0., 0.], dtype=float32),\n",
              " 957556345976377344: array([0., 0., 0., ..., 0., 0., 0.], dtype=float32),\n",
              " 225265639: array([0., 0., 0., ..., 0., 0., 0.], dtype=float32),\n",
              " 23932602: array([0., 0., 0., ..., 0., 0., 0.], dtype=float32),\n",
              " 419785696: array([0., 0., 0., ..., 0., 0., 0.], dtype=float32),\n",
              " 195471609: array([0., 0., 0., ..., 0., 0., 0.], dtype=float32),\n",
              " 3131015438: array([0., 0., 0., ..., 0., 0., 0.], dtype=float32),\n",
              " 2228878592: array([0., 0., 0., ..., 0., 0., 0.], dtype=float32),\n",
              " 1146990948: array([0., 0., 0., ..., 0., 0., 0.], dtype=float32),\n",
              " 887856932614160384: array([0., 0., 0., ..., 0., 0., 0.], dtype=float32),\n",
              " 910322209: array([0., 0., 0., ..., 0., 0., 0.], dtype=float32),\n",
              " 243011504: array([0., 0., 0., ..., 0., 0., 0.], dtype=float32),\n",
              " 295315670: array([0., 0., 0., ..., 0., 0., 0.], dtype=float32),\n",
              " 1849427648: array([0., 0., 0., ..., 0., 0., 0.], dtype=float32),\n",
              " 28460245: array([0., 0., 0., ..., 0., 0., 0.], dtype=float32),\n",
              " 1066920507122098176: array([0., 0., 0., ..., 0., 0., 0.], dtype=float32),\n",
              " 85712269: array([0., 0., 0., ..., 0., 0., 0.], dtype=float32),\n",
              " 43424420: array([0., 0., 0., ..., 0., 0., 0.], dtype=float32),\n",
              " 1105115123868467203: array([0., 0., 0., ..., 0., 0., 0.], dtype=float32),\n",
              " 1014512386009653248: array([0., 0., 0., ..., 0., 0., 0.], dtype=float32),\n",
              " 1010644878043144192: array([0., 0., 0., ..., 0., 0., 0.], dtype=float32),\n",
              " 1147974369009950720: array([0., 0., 0., ..., 0., 0., 0.], dtype=float32),\n",
              " 26493964: array([0., 0., 0., ..., 0., 0., 0.], dtype=float32),\n",
              " 1178192063474454529: array([0., 0., 0., ..., 0., 0., 0.], dtype=float32),\n",
              " 1110304807: array([0., 0., 0., ..., 0., 0., 0.], dtype=float32),\n",
              " 2268527203: array([0., 0., 0., ..., 0., 0., 0.], dtype=float32),\n",
              " 773412698: array([0., 0., 0., ..., 0., 0., 0.], dtype=float32),\n",
              " 610527764: array([0., 0., 0., ..., 0., 0., 0.], dtype=float32),\n",
              " 1181373604057014272: array([0., 0., 0., ..., 0., 0., 0.], dtype=float32),\n",
              " 2700873926: array([0., 0., 0., ..., 0., 0., 0.], dtype=float32),\n",
              " 1167691683288506368: array([0., 0., 0., ..., 0., 0., 0.], dtype=float32),\n",
              " 813595598314213377: array([0., 0., 0., ..., 0., 0., 0.], dtype=float32),\n",
              " 1003193186729320454: array([0., 0., 0., ..., 0., 0., 0.], dtype=float32),\n",
              " 414511192: array([0., 0., 0., ..., 0., 0., 0.], dtype=float32),\n",
              " 1070533443224629249: array([0., 0., 0., ..., 0., 0., 0.], dtype=float32),\n",
              " 3540699975: array([0., 0., 0., ..., 0., 0., 0.], dtype=float32),\n",
              " 768231463: array([0., 0., 0., ..., 0., 0., 0.], dtype=float32),\n",
              " 1193195853219057664: array([0., 0., 0., ..., 0., 0., 0.], dtype=float32),\n",
              " 268024780: array([0., 0., 0., ..., 0., 0., 0.], dtype=float32),\n",
              " 155561448: array([0., 0., 0., ..., 0., 0., 0.], dtype=float32),\n",
              " 93678107: array([0., 0., 0., ..., 0., 0., 0.], dtype=float32),\n",
              " 1337628709: array([0., 0., 0., ..., 0., 0., 0.], dtype=float32),\n",
              " 1194359942456721409: array([0., 0., 0., ..., 0., 0., 0.], dtype=float32),\n",
              " 441411840: array([0., 0., 0., ..., 0., 0., 0.], dtype=float32),\n",
              " 2421536614: array([0., 0., 0., ..., 0., 0., 0.], dtype=float32),\n",
              " 831596736: array([0., 0., 0., ..., 0., 0., 0.], dtype=float32),\n",
              " 1491168181: array([0., 0., 0., ..., 0., 0., 0.], dtype=float32),\n",
              " 1136349820610895872: array([0., 0., 0., ..., 0., 0., 0.], dtype=float32),\n",
              " 1148091363612909568: array([0., 0., 0., ..., 0., 0., 0.], dtype=float32),\n",
              " 967405993: array([0., 0., 0., ..., 0., 0., 0.], dtype=float32),\n",
              " 1157742747689902080: array([0., 0., 0., ..., 0., 0., 0.], dtype=float32),\n",
              " 75290060: array([0., 0., 0., ..., 0., 0., 0.], dtype=float32),\n",
              " 330247474: array([0., 0., 0., ..., 0., 0., 0.], dtype=float32),\n",
              " 1154084946123771904: array([0., 0., 0., ..., 0., 0., 0.], dtype=float32),\n",
              " 1089559142296096768: array([0.  , 0.  , 0.  , ..., 0.01, 0.  , 0.  ], dtype=float32),\n",
              " 1072277159438360579: array([0., 0., 0., ..., 0., 0., 0.], dtype=float32),\n",
              " 2790823993: array([0., 0., 0., ..., 0., 0., 0.], dtype=float32),\n",
              " 2371383000: array([0., 0., 0., ..., 0., 0., 0.], dtype=float32),\n",
              " 1078294457466916865: array([0., 0., 0., ..., 0., 0., 0.], dtype=float32),\n",
              " 325652922: array([0., 0., 0., ..., 0., 0., 0.], dtype=float32),\n",
              " 1156459388996947968: array([0.  , 0.  , 0.  , ..., 0.  , 0.  , 0.01], dtype=float32),\n",
              " 4207961: array([0., 0., 0., ..., 0., 0., 0.], dtype=float32),\n",
              " 815326543115407364: array([0., 0., 0., ..., 0., 0., 0.], dtype=float32),\n",
              " 79028016: array([0., 0., 0., ..., 0., 0., 0.], dtype=float32),\n",
              " 912605181862449152: array([0., 0., 0., ..., 0., 0., 0.], dtype=float32),\n",
              " 1316916446: array([0., 0., 0., ..., 0., 0., 0.], dtype=float32),\n",
              " 1920829086: array([0., 0., 0., ..., 0., 0., 0.], dtype=float32),\n",
              " 4119772878: array([0., 0., 0., ..., 0., 0., 0.], dtype=float32),\n",
              " 3171645111: array([0., 0., 0., ..., 0., 0., 0.], dtype=float32),\n",
              " 1013737525398130688: array([0.  , 0.  , 0.  , ..., 0.  , 0.01, 0.  ], dtype=float32),\n",
              " 271183049: array([0., 0., 0., ..., 0., 0., 0.], dtype=float32),\n",
              " 59618633: array([0., 0., 0., ..., 0., 0., 0.], dtype=float32),\n",
              " 180363880: array([0., 0., 0., ..., 0., 0., 0.], dtype=float32),\n",
              " 1022223251324526592: array([0.  , 0.  , 0.  , ..., 0.01, 0.  , 0.  ], dtype=float32),\n",
              " 992245027232509952: array([0., 0., 0., ..., 0., 0., 0.], dtype=float32),\n",
              " 1083664499637448704: array([0., 0., 0., ..., 0., 0., 0.], dtype=float32),\n",
              " 366815312: array([0., 0., 0., ..., 0., 0., 0.], dtype=float32),\n",
              " 1064924614759989250: array([0., 0., 0., ..., 0., 0., 0.], dtype=float32),\n",
              " 1184076620094554112: array([0., 0., 0., ..., 0., 0., 0.], dtype=float32),\n",
              " 3108011453: array([0., 0., 0., ..., 0., 0., 0.], dtype=float32),\n",
              " 17466132: array([0., 0., 0., ..., 0., 0., 0.], dtype=float32),\n",
              " 1116532313238704128: array([0., 0., 0., ..., 0., 0., 0.], dtype=float32),\n",
              " 716630768819249152: array([0., 0., 0., ..., 0., 0., 0.], dtype=float32),\n",
              " 832123374583296000: array([0., 0., 0., ..., 0., 0., 0.], dtype=float32),\n",
              " 30968138: array([0., 0., 0., ..., 0., 0., 0.], dtype=float32),\n",
              " 1173816175: array([0., 0., 0., ..., 0., 0., 0.], dtype=float32),\n",
              " 59674605: array([0., 0., 0., ..., 0., 0., 0.], dtype=float32),\n",
              " 3050882755: array([0., 0., 0., ..., 0., 0., 0.], dtype=float32),\n",
              " 49333534: array([0., 0., 0., ..., 0., 0., 0.], dtype=float32),\n",
              " 607499343: array([0.  , 0.  , 0.  , ..., 0.01, 0.  , 0.  ], dtype=float32),\n",
              " 1091239500037140480: array([0., 0., 0., ..., 0., 0., 0.], dtype=float32),\n",
              " 113452231: array([0., 0., 0., ..., 0., 0., 0.], dtype=float32),\n",
              " 380359774: array([0., 0., 0., ..., 0., 0., 0.], dtype=float32),\n",
              " 1179089937293103104: array([0., 0., 0., ..., 0., 0., 0.], dtype=float32),\n",
              " 14076329: array([0., 0., 0., ..., 0., 0., 0.], dtype=float32),\n",
              " 3416295178: array([0., 0., 0., ..., 0., 0., 0.], dtype=float32),\n",
              " 2717105722: array([0., 0., 0., ..., 0., 0., 0.], dtype=float32),\n",
              " 786196573889888256: array([0., 0., 0., ..., 0., 0., 0.], dtype=float32),\n",
              " 712708403253129217: array([0.  , 0.  , 0.  , ..., 0.01, 0.  , 0.  ], dtype=float32),\n",
              " 4286365994: array([0., 0., 0., ..., 0., 0., 0.], dtype=float32),\n",
              " 3050164084: array([0., 0., 0., ..., 0., 0., 0.], dtype=float32),\n",
              " 869314324938059780: array([0., 0., 0., ..., 0., 0., 0.], dtype=float32),\n",
              " 993183149373968386: array([0., 0., 0., ..., 0., 0., 0.], dtype=float32),\n",
              " 707969508191830016: array([0., 0., 0., ..., 0., 0., 0.], dtype=float32),\n",
              " 923532573388701696: array([0., 0., 0., ..., 0., 0., 0.], dtype=float32),\n",
              " 743018418: array([0., 0., 0., ..., 0., 0., 0.], dtype=float32),\n",
              " 2433563575: array([0., 0., 0., ..., 0., 0., 0.], dtype=float32),\n",
              " 95922614: array([0., 0., 0., ..., 0., 0., 0.], dtype=float32),\n",
              " 1165293095644061697: array([0., 0., 0., ..., 0., 0., 0.], dtype=float32),\n",
              " 345647311: array([0., 0., 0., ..., 0., 0., 0.], dtype=float32),\n",
              " 614615063: array([0., 0., 0., ..., 0., 0., 0.], dtype=float32),\n",
              " 49348583: array([0., 0., 0., ..., 0., 0., 0.], dtype=float32),\n",
              " 15758848: array([0., 0., 0., ..., 0., 0., 0.], dtype=float32),\n",
              " 3944550434: array([0., 0., 0., ..., 0., 0., 0.], dtype=float32),\n",
              " 22104134: array([0., 0., 0., ..., 0., 0., 0.], dtype=float32),\n",
              " 21418698: array([0., 0., 0., ..., 0., 0., 0.], dtype=float32),\n",
              " 264291095: array([0., 0., 0., ..., 0., 0., 0.], dtype=float32),\n",
              " 4886278576: array([0., 0., 0., ..., 0., 0., 0.], dtype=float32),\n",
              " 1287125076: array([0., 0., 0., ..., 0., 0., 0.], dtype=float32),\n",
              " 1131557564540342272: array([0., 0., 0., ..., 0., 0., 0.], dtype=float32),\n",
              " 358930933: array([0., 0., 0., ..., 0., 0., 0.], dtype=float32),\n",
              " 26548315: array([0., 0., 0., ..., 0., 0., 0.], dtype=float32),\n",
              " 800179879186567168: array([0., 0., 0., ..., 0., 0., 0.], dtype=float32),\n",
              " 410409666: array([0., 0., 0., ..., 0., 0., 0.], dtype=float32),\n",
              " 702550942311436288: array([0., 0., 0., ..., 0., 0., 0.], dtype=float32),\n",
              " 938538814250905601: array([0., 0., 0., ..., 0., 0., 0.], dtype=float32),\n",
              " 828972781698060288: array([0., 0., 0., ..., 0., 0., 0.], dtype=float32),\n",
              " 1055326141815418880: array([0., 0., 0., ..., 0., 0., 0.], dtype=float32),\n",
              " 423779254: array([0., 0., 0., ..., 0., 0., 0.], dtype=float32),\n",
              " 707748301886480384: array([0.  , 0.  , 0.  , ..., 0.01, 0.  , 0.  ], dtype=float32),\n",
              " 917180056455270400: array([0., 0., 0., ..., 0., 0., 0.], dtype=float32),\n",
              " 743886936: array([0., 0., 0., ..., 0., 0., 0.], dtype=float32),\n",
              " 2768498649: array([0., 0., 0., ..., 0., 0., 0.], dtype=float32),\n",
              " 84352990: array([0.  , 0.  , 0.  , ..., 0.01, 0.  , 0.  ], dtype=float32),\n",
              " 2615517219: array([0., 0., 0., ..., 0., 0., 0.], dtype=float32),\n",
              " 604752165: array([0., 0., 0., ..., 0., 0., 0.], dtype=float32),\n",
              " 21733692: array([0., 0., 0., ..., 0., 0., 0.], dtype=float32),\n",
              " 18222094: array([0., 0., 0., ..., 0., 0., 0.], dtype=float32),\n",
              " 3285705822: array([0., 0., 0., ..., 0., 0., 0.], dtype=float32),\n",
              " 1186336856239202305: array([0., 0., 0., ..., 0., 0., 0.], dtype=float32),\n",
              " 3131144855: array([0., 0., 0., ..., 0., 0., 0.], dtype=float32),\n",
              " 818517789086547968: array([0., 0., 0., ..., 0., 0., 0.], dtype=float32),\n",
              " 302761315: array([0., 0., 0., ..., 0., 0., 0.], dtype=float32),\n",
              " 3232284866: array([0., 0., 0., ..., 0., 0., 0.], dtype=float32),\n",
              " 2522165332: array([0., 0., 0., ..., 0., 0., 0.], dtype=float32),\n",
              " 177145415: array([0., 0., 0., ..., 0., 0., 0.], dtype=float32),\n",
              " 2940284602: array([0., 0., 0., ..., 0., 0., 0.], dtype=float32),\n",
              " 3024559964: array([0., 0., 0., ..., 0., 0., 0.], dtype=float32),\n",
              " 1007347917374541824: array([0., 0., 0., ..., 0., 0., 0.], dtype=float32),\n",
              " 174373120: array([0., 0., 0., ..., 0., 0., 0.], dtype=float32),\n",
              " 395940037: array([0., 0., 0., ..., 0., 0., 0.], dtype=float32),\n",
              " 798727674: array([0., 0., 0., ..., 0., 0., 0.], dtype=float32),\n",
              " 27973268: array([0., 0., 0., ..., 0., 0., 0.], dtype=float32),\n",
              " 814675666067079173: array([0., 0., 0., ..., 0., 0., 0.], dtype=float32),\n",
              " 2775283292: array([0., 0., 0., ..., 0., 0., 0.], dtype=float32),\n",
              " 864173792863506433: array([0., 0., 0., ..., 0., 0., 0.], dtype=float32),\n",
              " 275387038: array([0., 0., 0., ..., 0., 0., 0.], dtype=float32),\n",
              " 107664962: array([0., 0., 0., ..., 0., 0., 0.], dtype=float32),\n",
              " 209162050: array([0., 0., 0., ..., 0., 0., 0.], dtype=float32),\n",
              " 2936714848: array([0., 0., 0., ..., 0., 0., 0.], dtype=float32),\n",
              " 185264557: array([0., 0., 0., ..., 0., 0., 0.], dtype=float32),\n",
              " 1175698459791437825: array([0., 0., 0., ..., 0., 0., 0.], dtype=float32),\n",
              " 35823993: array([0., 0., 0., ..., 0., 0., 0.], dtype=float32),\n",
              " 3306118066: array([0., 0., 0., ..., 0., 0., 0.], dtype=float32),\n",
              " 14710291: array([0., 0., 0., ..., 0., 0., 0.], dtype=float32),\n",
              " 240882716: array([0., 0., 0., ..., 0., 0., 0.], dtype=float32),\n",
              " 266297793: array([0., 0., 0., ..., 0., 0., 0.], dtype=float32),\n",
              " 108122325: array([0., 0., 0., ..., 0., 0., 0.], dtype=float32),\n",
              " 39900539: array([0., 0., 0., ..., 0., 0., 0.], dtype=float32),\n",
              " 813034106040840192: array([0., 0., 0., ..., 0., 0., 0.], dtype=float32),\n",
              " 29765847: array([0., 0., 0., ..., 0., 0., 0.], dtype=float32),\n",
              " 105550996: array([0., 0., 0., ..., 0., 0., 0.], dtype=float32),\n",
              " 771672586547785729: array([0., 0., 0., ..., 0., 0., 0.], dtype=float32),\n",
              " 1906480429: array([0., 0., 0., ..., 0., 0., 0.], dtype=float32),\n",
              " 1546521002: array([0., 0., 0., ..., 0., 0., 0.], dtype=float32),\n",
              " 3105596220: array([0., 0., 0., ..., 0., 0., 0.], dtype=float32),\n",
              " 81646575: array([0., 0., 0., ..., 0., 0., 0.], dtype=float32),\n",
              " 1009364727682748416: array([0., 0., 0., ..., 0., 0., 0.], dtype=float32),\n",
              " 954029917812899840: array([0., 0., 0., ..., 0., 0., 0.], dtype=float32),\n",
              " 828214940339208192: array([0., 0., 0., ..., 0., 0., 0.], dtype=float32),\n",
              " ...}"
            ]
          },
          "metadata": {},
          "execution_count": 9
        }
      ]
    },
    {
      "cell_type": "code",
      "execution_count": null,
      "metadata": {
        "id": "5I5J2WpdNd9W"
      },
      "outputs": [],
      "source": [
        "user_embeddings_ordered = []\n",
        "users_without_embeddings = []\n",
        "for i in range(len(user_id_ordered)):\n",
        "  if user_id_ordered[i] in dict_user_embeddings:\n",
        "    user_embeddings_ordered.append(dict_user_embeddings[user_id_ordered[i]])\n",
        "  else:\n",
        "    users_without_embeddings.append(user_id_ordered[i])\n",
        "#user_embeddings_ordered\n"
      ]
    },
    {
      "cell_type": "code",
      "source": [
        "#DROPING TWEETS THAT HAVE USER IDS WHICH ARE NOT IN USER EMBEDDINGS\n",
        "df_train.drop(df_train[df_train[\"user_id\"].isin(users_without_embeddings)].index, inplace = True)\n",
        "df_test.drop(df_test[df_test[\"user_id\"].isin(users_without_embeddings)].index, inplace = True)\n",
        "df_val.drop(df_val[df_val[\"user_id\"].isin(users_without_embeddings)].index, inplace = True)"
      ],
      "metadata": {
        "id": "4Cvi8Rfwneeg"
      },
      "execution_count": null,
      "outputs": []
    },
    {
      "cell_type": "markdown",
      "source": [
        "## **Setup & Config**"
      ],
      "metadata": {
        "id": "zu6Lsw5msInE"
      }
    },
    {
      "cell_type": "code",
      "execution_count": null,
      "metadata": {
        "id": "zGxc0tQ1wg_K"
      },
      "outputs": [],
      "source": [
        "!pip install -q -U watermark"
      ]
    },
    {
      "cell_type": "code",
      "execution_count": null,
      "metadata": {
        "id": "jrJxCC3SwBhO"
      },
      "outputs": [],
      "source": [
        "!pip install -qq transformers"
      ]
    },
    {
      "cell_type": "code",
      "execution_count": null,
      "metadata": {
        "colab": {
          "base_uri": "https://localhost:8080/"
        },
        "id": "xh8Z-6gRwjZ_",
        "outputId": "b4307d5d-2de9-4c8f-aa1e-d988838d22dd"
      },
      "outputs": [
        {
          "output_type": "stream",
          "name": "stdout",
          "text": [
            "Python implementation: CPython\n",
            "Python version       : 3.7.13\n",
            "IPython version      : 5.5.0\n",
            "\n",
            "numpy       : 1.21.6\n",
            "pandas      : 1.3.5\n",
            "torch       : 1.12.0+cu113\n",
            "transformers: 4.20.1\n",
            "\n"
          ]
        }
      ],
      "source": [
        "%reload_ext watermark\n",
        "%watermark -v -p numpy,pandas,torch,transformers"
      ]
    },
    {
      "cell_type": "code",
      "execution_count": null,
      "metadata": {
        "colab": {
          "base_uri": "https://localhost:8080/"
        },
        "id": "lEUUrdb4wqgp",
        "outputId": "75c5d73e-4926-4c3c-def6-1e8aa97f7553"
      },
      "outputs": [
        {
          "output_type": "execute_result",
          "data": {
            "text/plain": [
              "device(type='cuda', index=0)"
            ]
          },
          "metadata": {},
          "execution_count": 15
        }
      ],
      "source": [
        "import transformers\n",
        "from transformers import BertModel, BertTokenizer, AdamW, get_linear_schedule_with_warmup\n",
        "import torch\n",
        "\n",
        "import numpy as np\n",
        "import pandas as pd\n",
        "import seaborn as sns\n",
        "from pylab import rcParams\n",
        "import matplotlib.pyplot as plt\n",
        "from matplotlib import rc\n",
        "from sklearn.model_selection import train_test_split\n",
        "from sklearn.metrics import confusion_matrix, classification_report\n",
        "from collections import defaultdict\n",
        "from textwrap import wrap\n",
        "\n",
        "from torch import nn, optim\n",
        "from torch.utils.data import Dataset, DataLoader\n",
        "import torch.nn.functional as F\n",
        "\n",
        "%matplotlib inline\n",
        "%config InlineBackend.figure_format='retina'\n",
        "\n",
        "sns.set(style='whitegrid', palette='muted', font_scale=1.2)\n",
        "\n",
        "HAPPY_COLORS_PALETTE = [\"#01BEFE\", \"#FFDD00\", \"#FF7D00\", \"#FF006D\", \"#ADFF02\", \"#8F00FF\"]\n",
        "\n",
        "sns.set_palette(sns.color_palette(HAPPY_COLORS_PALETTE))\n",
        "\n",
        "rcParams['figure.figsize'] = 12, 8\n",
        "\n",
        "RANDOM_SEED = 42\n",
        "np.random.seed(RANDOM_SEED)\n",
        "torch.manual_seed(RANDOM_SEED)\n",
        "\n",
        "device = torch.device(\"cuda:0\" if torch.cuda.is_available() else \"cpu\")\n",
        "device"
      ]
    },
    {
      "cell_type": "code",
      "execution_count": null,
      "metadata": {
        "id": "bzkHiBOpwARW"
      },
      "outputs": [],
      "source": [
        "PRE_TRAINED_MODEL_NAME = 'sentence-transformers/all-MiniLM-L6-v2'"
      ]
    },
    {
      "cell_type": "code",
      "execution_count": null,
      "metadata": {
        "id": "mFSN4CiwxINU"
      },
      "outputs": [],
      "source": [
        "tokenizer = BertTokenizer.from_pretrained(PRE_TRAINED_MODEL_NAME)"
      ]
    },
    {
      "cell_type": "markdown",
      "metadata": {
        "id": "FlAoJUlS18w7"
      },
      "source": [
        "Fixing max length and user_dim"
      ]
    },
    {
      "cell_type": "code",
      "execution_count": null,
      "metadata": {
        "id": "nA8P6mbS0ZqR"
      },
      "outputs": [],
      "source": [
        "user_dim = len(dict_user_embeddings[list(dict_user_embeddings.keys())[0]])\n",
        "MAX_LEN = 512"
      ]
    },
    {
      "cell_type": "markdown",
      "metadata": {
        "id": "i6g3gHfy2JpF"
      },
      "source": [
        "##**Data Loader**"
      ]
    },
    {
      "cell_type": "code",
      "execution_count": null,
      "metadata": {
        "id": "A4kB5OeW0j6n"
      },
      "outputs": [],
      "source": [
        "class SarcasticTweetsDataset(Dataset):\n",
        "\n",
        "  def __init__(self, sar_texts, user_ids, targets, tokenizer, max_len):\n",
        "    self.sar_texts = sar_texts\n",
        "    self.user_ids = user_ids\n",
        "    self.targets = targets\n",
        "    self.tokenizer = tokenizer\n",
        "    self.max_len = max_len\n",
        "  \n",
        "  def __len__(self):\n",
        "    return len(self.sar_texts)\n",
        "  \n",
        "  def __getitem__(self, item):\n",
        "    sar_text = str(self.sar_texts[item])\n",
        "    user_id = self.user_ids[item]\n",
        "    target = self.targets[item]\n",
        "\n",
        "    encoding = self.tokenizer.encode_plus(\n",
        "      sar_text,\n",
        "      add_special_tokens=True,\n",
        "      max_length=self.max_len,\n",
        "      return_token_type_ids=False,\n",
        "      pad_to_max_length=True,\n",
        "      return_attention_mask=True,\n",
        "      return_tensors='pt',\n",
        "    )\n",
        "\n",
        "    return {\n",
        "      'sar_text': sar_text,\n",
        "      'user_id': user_id,\n",
        "      'input_ids': encoding['input_ids'].flatten(),\n",
        "      'attention_mask': encoding['attention_mask'].flatten(),\n",
        "      'targets': torch.tensor(target, dtype=torch.long)\n",
        "    }"
      ]
    },
    {
      "cell_type": "code",
      "execution_count": null,
      "metadata": {
        "id": "6dhjGDcd1SI0"
      },
      "outputs": [],
      "source": [
        "def create_data_loader(df, tokenizer, max_len, batch_size):\n",
        "  ds = SarcasticTweetsDataset(\n",
        "    sar_texts=df.sar_text.to_numpy(),\n",
        "    user_ids = df.user_id.to_numpy(),\n",
        "    targets=df.label.to_numpy(),\n",
        "    tokenizer=tokenizer,\n",
        "    max_len=max_len\n",
        "  )\n",
        "\n",
        "  return DataLoader(\n",
        "    ds,\n",
        "    batch_size=batch_size,\n",
        "    num_workers=4\n",
        "  )"
      ]
    },
    {
      "cell_type": "code",
      "execution_count": null,
      "metadata": {
        "colab": {
          "base_uri": "https://localhost:8080/"
        },
        "id": "zBV-lpwf1ifV",
        "outputId": "0e746178-5e1d-4876-a058-b6f8939b881c"
      },
      "outputs": [
        {
          "output_type": "stream",
          "name": "stderr",
          "text": [
            "/usr/local/lib/python3.7/dist-packages/torch/utils/data/dataloader.py:560: UserWarning: This DataLoader will create 4 worker processes in total. Our suggested max number of worker in current system is 2, which is smaller than what this DataLoader is going to create. Please be aware that excessive worker creation might get DataLoader running slow or even freeze, lower the worker number to avoid potential slowness/freeze if necessary.\n",
            "  cpuset_checked))\n"
          ]
        }
      ],
      "source": [
        "BATCH_SIZE = 32\n",
        "\n",
        "train_data_loader = create_data_loader(df_train, tokenizer, MAX_LEN, BATCH_SIZE)\n",
        "val_data_loader = create_data_loader(df_val, tokenizer, MAX_LEN, BATCH_SIZE)\n",
        "test_data_loader = create_data_loader(df_test, tokenizer, MAX_LEN, BATCH_SIZE)"
      ]
    },
    {
      "cell_type": "code",
      "execution_count": null,
      "metadata": {
        "colab": {
          "base_uri": "https://localhost:8080/"
        },
        "id": "Lpyy5TB_1x_S",
        "outputId": "ad66775c-43be-4044-c7ae-d364b9b3d1c8"
      },
      "outputs": [
        {
          "output_type": "stream",
          "name": "stderr",
          "text": [
            "/usr/local/lib/python3.7/dist-packages/torch/utils/data/dataloader.py:560: UserWarning: This DataLoader will create 4 worker processes in total. Our suggested max number of worker in current system is 2, which is smaller than what this DataLoader is going to create. Please be aware that excessive worker creation might get DataLoader running slow or even freeze, lower the worker number to avoid potential slowness/freeze if necessary.\n",
            "  cpuset_checked))\n",
            "Truncation was not explicitly activated but `max_length` is provided a specific value, please use `truncation=True` to explicitly truncate examples to max length. Defaulting to 'longest_first' truncation strategy. If you encode pairs of sequences (GLUE-style) with the tokenizer you can select this strategy more precisely by providing a specific strategy to `truncation`.\n",
            "/usr/local/lib/python3.7/dist-packages/transformers/tokenization_utils_base.py:2307: FutureWarning: The `pad_to_max_length` argument is deprecated and will be removed in a future version, use `padding=True` or `padding='longest'` to pad to the longest sequence in the batch, or use `padding='max_length'` to pad to a max length. In this case, you can give a specific length with `max_length` (e.g. `max_length=45`) or leave max_length to None to pad to the maximal input size of the model (e.g. 512 for Bert).\n",
            "  FutureWarning,\n",
            "Truncation was not explicitly activated but `max_length` is provided a specific value, please use `truncation=True` to explicitly truncate examples to max length. Defaulting to 'longest_first' truncation strategy. If you encode pairs of sequences (GLUE-style) with the tokenizer you can select this strategy more precisely by providing a specific strategy to `truncation`.\n",
            "Truncation was not explicitly activated but `max_length` is provided a specific value, please use `truncation=True` to explicitly truncate examples to max length. Defaulting to 'longest_first' truncation strategy. If you encode pairs of sequences (GLUE-style) with the tokenizer you can select this strategy more precisely by providing a specific strategy to `truncation`.\n",
            "/usr/local/lib/python3.7/dist-packages/transformers/tokenization_utils_base.py:2307: FutureWarning: The `pad_to_max_length` argument is deprecated and will be removed in a future version, use `padding=True` or `padding='longest'` to pad to the longest sequence in the batch, or use `padding='max_length'` to pad to a max length. In this case, you can give a specific length with `max_length` (e.g. `max_length=45`) or leave max_length to None to pad to the maximal input size of the model (e.g. 512 for Bert).\n",
            "  FutureWarning,\n",
            "/usr/local/lib/python3.7/dist-packages/transformers/tokenization_utils_base.py:2307: FutureWarning: The `pad_to_max_length` argument is deprecated and will be removed in a future version, use `padding=True` or `padding='longest'` to pad to the longest sequence in the batch, or use `padding='max_length'` to pad to a max length. In this case, you can give a specific length with `max_length` (e.g. `max_length=45`) or leave max_length to None to pad to the maximal input size of the model (e.g. 512 for Bert).\n",
            "  FutureWarning,\n",
            "Truncation was not explicitly activated but `max_length` is provided a specific value, please use `truncation=True` to explicitly truncate examples to max length. Defaulting to 'longest_first' truncation strategy. If you encode pairs of sequences (GLUE-style) with the tokenizer you can select this strategy more precisely by providing a specific strategy to `truncation`.\n",
            "/usr/local/lib/python3.7/dist-packages/transformers/tokenization_utils_base.py:2307: FutureWarning: The `pad_to_max_length` argument is deprecated and will be removed in a future version, use `padding=True` or `padding='longest'` to pad to the longest sequence in the batch, or use `padding='max_length'` to pad to a max length. In this case, you can give a specific length with `max_length` (e.g. `max_length=45`) or leave max_length to None to pad to the maximal input size of the model (e.g. 512 for Bert).\n",
            "  FutureWarning,\n"
          ]
        },
        {
          "output_type": "execute_result",
          "data": {
            "text/plain": [
              "dict_keys(['sar_text', 'user_id', 'input_ids', 'attention_mask', 'targets'])"
            ]
          },
          "metadata": {},
          "execution_count": 22
        }
      ],
      "source": [
        "data = next(iter(train_data_loader))\n",
        "data.keys()"
      ]
    },
    {
      "cell_type": "code",
      "execution_count": null,
      "metadata": {
        "colab": {
          "base_uri": "https://localhost:8080/"
        },
        "id": "lpNze8ZP1zSS",
        "outputId": "a88dca98-c183-47a3-f4fa-1070b94e3eda"
      },
      "outputs": [
        {
          "output_type": "stream",
          "name": "stdout",
          "text": [
            "torch.Size([32, 512])\n",
            "torch.Size([32, 512])\n",
            "torch.Size([32])\n",
            "torch.Size([32])\n"
          ]
        }
      ],
      "source": [
        "print(data['input_ids'].shape)\n",
        "print(data['attention_mask'].shape)\n",
        "print(data['targets'].shape)\n",
        "print(data['user_id'].shape)"
      ]
    },
    {
      "cell_type": "markdown",
      "metadata": {
        "id": "BEFm3ELt6OD6"
      },
      "source": [
        "## **Classifier**"
      ]
    },
    {
      "cell_type": "code",
      "execution_count": null,
      "metadata": {
        "id": "Jijd3Xn56QTF"
      },
      "outputs": [],
      "source": [
        "bert_model = BertModel.from_pretrained(PRE_TRAINED_MODEL_NAME)"
      ]
    },
    {
      "cell_type": "code",
      "execution_count": null,
      "metadata": {
        "id": "E4gQhe40B9xE"
      },
      "outputs": [],
      "source": [
        "class SarcasmClassifier(nn.Module):\n",
        "\n",
        "  def __init__(self, n_classes, users_dim = user_dim): \n",
        "    super(SarcasmClassifier, self).__init__()\n",
        "    self.bert = BertModel.from_pretrained(PRE_TRAINED_MODEL_NAME)\n",
        "    self.drop = nn.Dropout(p=0.7)\n",
        "    #self.out = nn.Linear(self.bert.config.hidden_size, n_classes)\n",
        "    if users_dim != None:\n",
        "      self.scale_down = nn.Linear(self.bert.config.hidden_size, users_dim)\n",
        "      self.out = nn.Linear(2 * users_dim, n_classes)\n",
        "      #self.out = nn.Linear(users_dim, n_classes)\n",
        "    else:\n",
        "      self.out = nn.Linear(self.bert.config.hidden_size, n_classes)\n",
        "  \n",
        "  def forward(self, input_ids, attention_mask, user_embeddings):\n",
        "    ob = self.bert(\n",
        "      input_ids=input_ids,\n",
        "      attention_mask=attention_mask\n",
        "    )\n",
        "    output = self.drop(ob.pooler_output)\n",
        "\n",
        "    if user_embeddings != None:\n",
        "      pooled_output = self.scale_down(output)\n",
        "      concat = torch.cat((pooled_output, user_embeddings), dim=1)\n",
        "      logits = self.out(concat.float())\n",
        "    else:\n",
        "      logits = self.out(output)\n",
        "\n",
        "    return logits\n",
        "\n",
        "    "
      ]
    },
    {
      "cell_type": "code",
      "execution_count": null,
      "metadata": {
        "id": "XZn6lkIo9ey_"
      },
      "outputs": [],
      "source": [
        "class_names = ['positive', 'negative']"
      ]
    },
    {
      "cell_type": "code",
      "execution_count": null,
      "metadata": {
        "id": "EVkEGDez9OH5"
      },
      "outputs": [],
      "source": [
        "model = SarcasmClassifier(len(class_names), user_dim)\n",
        "model = model.to(device)"
      ]
    },
    {
      "cell_type": "code",
      "execution_count": null,
      "metadata": {
        "colab": {
          "base_uri": "https://localhost:8080/"
        },
        "id": "rvA4gmEm9uAs",
        "outputId": "8d5a6c17-2706-4f51-ac84-5845a459d1d7"
      },
      "outputs": [
        {
          "output_type": "stream",
          "name": "stdout",
          "text": [
            "torch.Size([32, 512])\n",
            "torch.Size([32, 512])\n"
          ]
        }
      ],
      "source": [
        "input_ids = data['input_ids'].to(device)\n",
        "attention_mask = data['attention_mask'].to(device)\n",
        "user_ids = data['user_id'].to(device)\n",
        "\n",
        "print(input_ids.shape) # batch size x seq length\n",
        "print(attention_mask.shape) # batch size x seq length"
      ]
    },
    {
      "cell_type": "markdown",
      "metadata": {
        "id": "-uDCtSxd95V5"
      },
      "source": [
        "## **Training**"
      ]
    },
    {
      "cell_type": "code",
      "execution_count": null,
      "metadata": {
        "colab": {
          "base_uri": "https://localhost:8080/"
        },
        "id": "nTlmpyrb9yu5",
        "outputId": "ba5dc009-2739-4afa-8fe5-45a791510cd0"
      },
      "outputs": [
        {
          "output_type": "stream",
          "name": "stderr",
          "text": [
            "/usr/local/lib/python3.7/dist-packages/transformers/optimization.py:310: FutureWarning: This implementation of AdamW is deprecated and will be removed in a future version. Use the PyTorch implementation torch.optim.AdamW instead, or set `no_deprecation_warning=True` to disable this warning\n",
            "  FutureWarning,\n"
          ]
        }
      ],
      "source": [
        "EPOCHS = 2\n",
        "\n",
        "optimizer = AdamW(model.parameters(), lr=5e-5, correct_bias=False)\n",
        "total_steps = len(train_data_loader) * EPOCHS\n",
        "\n",
        "scheduler = get_linear_schedule_with_warmup(\n",
        "  optimizer,\n",
        "  num_warmup_steps=0,\n",
        "  num_training_steps=total_steps\n",
        ")\n",
        "\n",
        "loss_fn = nn.CrossEntropyLoss().to(device)"
      ]
    },
    {
      "cell_type": "code",
      "execution_count": null,
      "metadata": {
        "id": "ApnUtL4-B-nY"
      },
      "outputs": [],
      "source": [
        "def train_epoch(\n",
        "  model, \n",
        "  data_loader, \n",
        "  loss_fn, \n",
        "  optimizer, \n",
        "  device, \n",
        "  scheduler, \n",
        "  n_examples\n",
        "):\n",
        "  model = model.train()\n",
        "\n",
        "  losses = []\n",
        "  correct_predictions = 0\n",
        "  \n",
        "  for d in data_loader:\n",
        "    input_ids = d[\"input_ids\"].to(device)\n",
        "    attention_mask = d[\"attention_mask\"].to(device)\n",
        "    targets = d[\"targets\"].to(device)\n",
        "    user_ids = d['user_id'].to(device)\n",
        "    user_embeddings = [] \n",
        "    for i in range(len(input_ids)):\n",
        "      if user_ids[i].item() in dict_user_embeddings:\n",
        "        user_embeddings.append(dict_user_embeddings[user_ids[i].item()])\n",
        "\n",
        "\n",
        "    user_embeddings = torch.tensor(user_embeddings).to(device)\n",
        "    outputs = model(\n",
        "      input_ids=input_ids,\n",
        "      attention_mask=attention_mask,\n",
        "      user_embeddings = user_embeddings\n",
        "    )\n",
        "\n",
        "    _, preds = torch.max(outputs, dim=1)\n",
        "    loss = loss_fn(outputs, targets)\n",
        "\n",
        "    correct_predictions += torch.sum(preds == targets)\n",
        "    losses.append(loss.item())\n",
        "\n",
        "    loss.backward()\n",
        "    nn.utils.clip_grad_norm_(model.parameters(), max_norm=1.0)\n",
        "    optimizer.step()\n",
        "    scheduler.step()\n",
        "    optimizer.zero_grad()\n",
        "\n",
        "  return correct_predictions.double() / n_examples, np.mean(losses)"
      ]
    },
    {
      "cell_type": "code",
      "execution_count": null,
      "metadata": {
        "id": "RE-7PLDjCAY3"
      },
      "outputs": [],
      "source": [
        "def eval_model(model, data_loader, loss_fn, device, n_examples):\n",
        "  model = model.eval()\n",
        "\n",
        "  losses = []\n",
        "  correct_predictions = 0\n",
        "\n",
        "  with torch.no_grad():\n",
        "    for d in data_loader:\n",
        "      input_ids = d[\"input_ids\"].to(device)\n",
        "      attention_mask = d[\"attention_mask\"].to(device)\n",
        "      targets = d[\"targets\"].to(device)\n",
        "      user_ids = d['user_id'].to(device) \n",
        "      user_embeddings = [] \n",
        "      for i in range(len(user_ids)):\n",
        "        if user_ids[i].item() in dict_user_embeddings:\n",
        "          user_embeddings.append(dict_user_embeddings[user_ids[i].item()])\n",
        "        \n",
        "      user_embeddings = torch.tensor(user_embeddings).to(device)\n",
        "      outputs = model(\n",
        "        input_ids=input_ids,\n",
        "        attention_mask=attention_mask,\n",
        "        user_embeddings = user_embeddings\n",
        "      )\n",
        "      _, preds = torch.max(outputs, dim=1)\n",
        "\n",
        "      loss = loss_fn(outputs, targets)\n",
        "\n",
        "      correct_predictions += torch.sum(preds == targets)\n",
        "      losses.append(loss.item())\n",
        "\n",
        "  return correct_predictions.double() / n_examples, np.mean(losses)"
      ]
    },
    {
      "cell_type": "code",
      "source": [
        "df_val['label'].to_numpy()\n",
        "import numpy as np\n",
        "unique, counts = np.unique(df_train['label'].to_numpy(), return_counts=True)\n",
        "\n",
        "dict(zip(unique, counts))"
      ],
      "metadata": {
        "colab": {
          "base_uri": "https://localhost:8080/"
        },
        "id": "VTfVPxPA2pFh",
        "outputId": "306ed81f-d787-4572-8fad-ce7418e233ed"
      },
      "execution_count": null,
      "outputs": [
        {
          "output_type": "execute_result",
          "data": {
            "text/plain": [
              "{0: 7993, 1: 7856}"
            ]
          },
          "metadata": {},
          "execution_count": 32
        }
      ]
    },
    {
      "cell_type": "code",
      "execution_count": null,
      "metadata": {
        "colab": {
          "base_uri": "https://localhost:8080/"
        },
        "id": "NakwLrugCJ5X",
        "outputId": "e842fdc5-ad2d-4bba-c7d0-a580b25ade8c"
      },
      "outputs": [
        {
          "output_type": "stream",
          "name": "stdout",
          "text": [
            "Epoch 1/2\n",
            "----------\n"
          ]
        },
        {
          "output_type": "stream",
          "name": "stderr",
          "text": [
            "/usr/local/lib/python3.7/dist-packages/torch/utils/data/dataloader.py:560: UserWarning: This DataLoader will create 4 worker processes in total. Our suggested max number of worker in current system is 2, which is smaller than what this DataLoader is going to create. Please be aware that excessive worker creation might get DataLoader running slow or even freeze, lower the worker number to avoid potential slowness/freeze if necessary.\n",
            "  cpuset_checked))\n",
            "Truncation was not explicitly activated but `max_length` is provided a specific value, please use `truncation=True` to explicitly truncate examples to max length. Defaulting to 'longest_first' truncation strategy. If you encode pairs of sequences (GLUE-style) with the tokenizer you can select this strategy more precisely by providing a specific strategy to `truncation`.\n",
            "Truncation was not explicitly activated but `max_length` is provided a specific value, please use `truncation=True` to explicitly truncate examples to max length. Defaulting to 'longest_first' truncation strategy. If you encode pairs of sequences (GLUE-style) with the tokenizer you can select this strategy more precisely by providing a specific strategy to `truncation`.\n",
            "/usr/local/lib/python3.7/dist-packages/transformers/tokenization_utils_base.py:2307: FutureWarning: The `pad_to_max_length` argument is deprecated and will be removed in a future version, use `padding=True` or `padding='longest'` to pad to the longest sequence in the batch, or use `padding='max_length'` to pad to a max length. In this case, you can give a specific length with `max_length` (e.g. `max_length=45`) or leave max_length to None to pad to the maximal input size of the model (e.g. 512 for Bert).\n",
            "  FutureWarning,\n",
            "/usr/local/lib/python3.7/dist-packages/transformers/tokenization_utils_base.py:2307: FutureWarning: The `pad_to_max_length` argument is deprecated and will be removed in a future version, use `padding=True` or `padding='longest'` to pad to the longest sequence in the batch, or use `padding='max_length'` to pad to a max length. In this case, you can give a specific length with `max_length` (e.g. `max_length=45`) or leave max_length to None to pad to the maximal input size of the model (e.g. 512 for Bert).\n",
            "  FutureWarning,\n",
            "Truncation was not explicitly activated but `max_length` is provided a specific value, please use `truncation=True` to explicitly truncate examples to max length. Defaulting to 'longest_first' truncation strategy. If you encode pairs of sequences (GLUE-style) with the tokenizer you can select this strategy more precisely by providing a specific strategy to `truncation`.\n",
            "Truncation was not explicitly activated but `max_length` is provided a specific value, please use `truncation=True` to explicitly truncate examples to max length. Defaulting to 'longest_first' truncation strategy. If you encode pairs of sequences (GLUE-style) with the tokenizer you can select this strategy more precisely by providing a specific strategy to `truncation`.\n",
            "/usr/local/lib/python3.7/dist-packages/transformers/tokenization_utils_base.py:2307: FutureWarning: The `pad_to_max_length` argument is deprecated and will be removed in a future version, use `padding=True` or `padding='longest'` to pad to the longest sequence in the batch, or use `padding='max_length'` to pad to a max length. In this case, you can give a specific length with `max_length` (e.g. `max_length=45`) or leave max_length to None to pad to the maximal input size of the model (e.g. 512 for Bert).\n",
            "  FutureWarning,\n",
            "/usr/local/lib/python3.7/dist-packages/transformers/tokenization_utils_base.py:2307: FutureWarning: The `pad_to_max_length` argument is deprecated and will be removed in a future version, use `padding=True` or `padding='longest'` to pad to the longest sequence in the batch, or use `padding='max_length'` to pad to a max length. In this case, you can give a specific length with `max_length` (e.g. `max_length=45`) or leave max_length to None to pad to the maximal input size of the model (e.g. 512 for Bert).\n",
            "  FutureWarning,\n",
            "/usr/local/lib/python3.7/dist-packages/ipykernel_launcher.py:26: UserWarning: Creating a tensor from a list of numpy.ndarrays is extremely slow. Please consider converting the list to a single numpy.ndarray with numpy.array() before converting to a tensor. (Triggered internally at  ../torch/csrc/utils/tensor_new.cpp:201.)\n"
          ]
        },
        {
          "output_type": "stream",
          "name": "stdout",
          "text": [
            "Train loss 0.6452375114444764 accuracy 0.6308915388983531\n"
          ]
        },
        {
          "output_type": "stream",
          "name": "stderr",
          "text": [
            "Truncation was not explicitly activated but `max_length` is provided a specific value, please use `truncation=True` to explicitly truncate examples to max length. Defaulting to 'longest_first' truncation strategy. If you encode pairs of sequences (GLUE-style) with the tokenizer you can select this strategy more precisely by providing a specific strategy to `truncation`.\n",
            "Truncation was not explicitly activated but `max_length` is provided a specific value, please use `truncation=True` to explicitly truncate examples to max length. Defaulting to 'longest_first' truncation strategy. If you encode pairs of sequences (GLUE-style) with the tokenizer you can select this strategy more precisely by providing a specific strategy to `truncation`.\n",
            "Truncation was not explicitly activated but `max_length` is provided a specific value, please use `truncation=True` to explicitly truncate examples to max length. Defaulting to 'longest_first' truncation strategy. If you encode pairs of sequences (GLUE-style) with the tokenizer you can select this strategy more precisely by providing a specific strategy to `truncation`.\n",
            "Truncation was not explicitly activated but `max_length` is provided a specific value, please use `truncation=True` to explicitly truncate examples to max length. Defaulting to 'longest_first' truncation strategy. If you encode pairs of sequences (GLUE-style) with the tokenizer you can select this strategy more precisely by providing a specific strategy to `truncation`.\n",
            "/usr/local/lib/python3.7/dist-packages/transformers/tokenization_utils_base.py:2307: FutureWarning: The `pad_to_max_length` argument is deprecated and will be removed in a future version, use `padding=True` or `padding='longest'` to pad to the longest sequence in the batch, or use `padding='max_length'` to pad to a max length. In this case, you can give a specific length with `max_length` (e.g. `max_length=45`) or leave max_length to None to pad to the maximal input size of the model (e.g. 512 for Bert).\n",
            "  FutureWarning,\n",
            "/usr/local/lib/python3.7/dist-packages/transformers/tokenization_utils_base.py:2307: FutureWarning: The `pad_to_max_length` argument is deprecated and will be removed in a future version, use `padding=True` or `padding='longest'` to pad to the longest sequence in the batch, or use `padding='max_length'` to pad to a max length. In this case, you can give a specific length with `max_length` (e.g. `max_length=45`) or leave max_length to None to pad to the maximal input size of the model (e.g. 512 for Bert).\n",
            "  FutureWarning,\n",
            "/usr/local/lib/python3.7/dist-packages/transformers/tokenization_utils_base.py:2307: FutureWarning: The `pad_to_max_length` argument is deprecated and will be removed in a future version, use `padding=True` or `padding='longest'` to pad to the longest sequence in the batch, or use `padding='max_length'` to pad to a max length. In this case, you can give a specific length with `max_length` (e.g. `max_length=45`) or leave max_length to None to pad to the maximal input size of the model (e.g. 512 for Bert).\n",
            "  FutureWarning,\n",
            "/usr/local/lib/python3.7/dist-packages/transformers/tokenization_utils_base.py:2307: FutureWarning: The `pad_to_max_length` argument is deprecated and will be removed in a future version, use `padding=True` or `padding='longest'` to pad to the longest sequence in the batch, or use `padding='max_length'` to pad to a max length. In this case, you can give a specific length with `max_length` (e.g. `max_length=45`) or leave max_length to None to pad to the maximal input size of the model (e.g. 512 for Bert).\n",
            "  FutureWarning,\n"
          ]
        },
        {
          "output_type": "stream",
          "name": "stdout",
          "text": [
            "Val   loss 0.6073843315243721 accuracy 0.6654740608228981\n",
            "\n",
            "Epoch 2/2\n",
            "----------\n"
          ]
        },
        {
          "output_type": "stream",
          "name": "stderr",
          "text": [
            "Truncation was not explicitly activated but `max_length` is provided a specific value, please use `truncation=True` to explicitly truncate examples to max length. Defaulting to 'longest_first' truncation strategy. If you encode pairs of sequences (GLUE-style) with the tokenizer you can select this strategy more precisely by providing a specific strategy to `truncation`.\n",
            "Truncation was not explicitly activated but `max_length` is provided a specific value, please use `truncation=True` to explicitly truncate examples to max length. Defaulting to 'longest_first' truncation strategy. If you encode pairs of sequences (GLUE-style) with the tokenizer you can select this strategy more precisely by providing a specific strategy to `truncation`.\n",
            "/usr/local/lib/python3.7/dist-packages/transformers/tokenization_utils_base.py:2307: FutureWarning: The `pad_to_max_length` argument is deprecated and will be removed in a future version, use `padding=True` or `padding='longest'` to pad to the longest sequence in the batch, or use `padding='max_length'` to pad to a max length. In this case, you can give a specific length with `max_length` (e.g. `max_length=45`) or leave max_length to None to pad to the maximal input size of the model (e.g. 512 for Bert).\n",
            "  FutureWarning,\n",
            "Truncation was not explicitly activated but `max_length` is provided a specific value, please use `truncation=True` to explicitly truncate examples to max length. Defaulting to 'longest_first' truncation strategy. If you encode pairs of sequences (GLUE-style) with the tokenizer you can select this strategy more precisely by providing a specific strategy to `truncation`.\n",
            "/usr/local/lib/python3.7/dist-packages/transformers/tokenization_utils_base.py:2307: FutureWarning: The `pad_to_max_length` argument is deprecated and will be removed in a future version, use `padding=True` or `padding='longest'` to pad to the longest sequence in the batch, or use `padding='max_length'` to pad to a max length. In this case, you can give a specific length with `max_length` (e.g. `max_length=45`) or leave max_length to None to pad to the maximal input size of the model (e.g. 512 for Bert).\n",
            "  FutureWarning,\n",
            "/usr/local/lib/python3.7/dist-packages/transformers/tokenization_utils_base.py:2307: FutureWarning: The `pad_to_max_length` argument is deprecated and will be removed in a future version, use `padding=True` or `padding='longest'` to pad to the longest sequence in the batch, or use `padding='max_length'` to pad to a max length. In this case, you can give a specific length with `max_length` (e.g. `max_length=45`) or leave max_length to None to pad to the maximal input size of the model (e.g. 512 for Bert).\n",
            "  FutureWarning,\n",
            "Truncation was not explicitly activated but `max_length` is provided a specific value, please use `truncation=True` to explicitly truncate examples to max length. Defaulting to 'longest_first' truncation strategy. If you encode pairs of sequences (GLUE-style) with the tokenizer you can select this strategy more precisely by providing a specific strategy to `truncation`.\n",
            "/usr/local/lib/python3.7/dist-packages/transformers/tokenization_utils_base.py:2307: FutureWarning: The `pad_to_max_length` argument is deprecated and will be removed in a future version, use `padding=True` or `padding='longest'` to pad to the longest sequence in the batch, or use `padding='max_length'` to pad to a max length. In this case, you can give a specific length with `max_length` (e.g. `max_length=45`) or leave max_length to None to pad to the maximal input size of the model (e.g. 512 for Bert).\n",
            "  FutureWarning,\n"
          ]
        },
        {
          "output_type": "stream",
          "name": "stdout",
          "text": [
            "Train loss 0.5332383487613932 accuracy 0.735882390056155\n"
          ]
        },
        {
          "output_type": "stream",
          "name": "stderr",
          "text": [
            "Truncation was not explicitly activated but `max_length` is provided a specific value, please use `truncation=True` to explicitly truncate examples to max length. Defaulting to 'longest_first' truncation strategy. If you encode pairs of sequences (GLUE-style) with the tokenizer you can select this strategy more precisely by providing a specific strategy to `truncation`.\n",
            "/usr/local/lib/python3.7/dist-packages/transformers/tokenization_utils_base.py:2307: FutureWarning: The `pad_to_max_length` argument is deprecated and will be removed in a future version, use `padding=True` or `padding='longest'` to pad to the longest sequence in the batch, or use `padding='max_length'` to pad to a max length. In this case, you can give a specific length with `max_length` (e.g. `max_length=45`) or leave max_length to None to pad to the maximal input size of the model (e.g. 512 for Bert).\n",
            "  FutureWarning,\n",
            "Truncation was not explicitly activated but `max_length` is provided a specific value, please use `truncation=True` to explicitly truncate examples to max length. Defaulting to 'longest_first' truncation strategy. If you encode pairs of sequences (GLUE-style) with the tokenizer you can select this strategy more precisely by providing a specific strategy to `truncation`.\n",
            "Truncation was not explicitly activated but `max_length` is provided a specific value, please use `truncation=True` to explicitly truncate examples to max length. Defaulting to 'longest_first' truncation strategy. If you encode pairs of sequences (GLUE-style) with the tokenizer you can select this strategy more precisely by providing a specific strategy to `truncation`.\n",
            "Truncation was not explicitly activated but `max_length` is provided a specific value, please use `truncation=True` to explicitly truncate examples to max length. Defaulting to 'longest_first' truncation strategy. If you encode pairs of sequences (GLUE-style) with the tokenizer you can select this strategy more precisely by providing a specific strategy to `truncation`.\n",
            "/usr/local/lib/python3.7/dist-packages/transformers/tokenization_utils_base.py:2307: FutureWarning: The `pad_to_max_length` argument is deprecated and will be removed in a future version, use `padding=True` or `padding='longest'` to pad to the longest sequence in the batch, or use `padding='max_length'` to pad to a max length. In this case, you can give a specific length with `max_length` (e.g. `max_length=45`) or leave max_length to None to pad to the maximal input size of the model (e.g. 512 for Bert).\n",
            "  FutureWarning,\n",
            "/usr/local/lib/python3.7/dist-packages/transformers/tokenization_utils_base.py:2307: FutureWarning: The `pad_to_max_length` argument is deprecated and will be removed in a future version, use `padding=True` or `padding='longest'` to pad to the longest sequence in the batch, or use `padding='max_length'` to pad to a max length. In this case, you can give a specific length with `max_length` (e.g. `max_length=45`) or leave max_length to None to pad to the maximal input size of the model (e.g. 512 for Bert).\n",
            "  FutureWarning,\n",
            "/usr/local/lib/python3.7/dist-packages/transformers/tokenization_utils_base.py:2307: FutureWarning: The `pad_to_max_length` argument is deprecated and will be removed in a future version, use `padding=True` or `padding='longest'` to pad to the longest sequence in the batch, or use `padding='max_length'` to pad to a max length. In this case, you can give a specific length with `max_length` (e.g. `max_length=45`) or leave max_length to None to pad to the maximal input size of the model (e.g. 512 for Bert).\n",
            "  FutureWarning,\n"
          ]
        },
        {
          "output_type": "stream",
          "name": "stdout",
          "text": [
            "Val   loss 0.6208270544355566 accuracy 0.6747763864042934\n",
            "\n",
            "CPU times: user 10min 45s, sys: 8.16 s, total: 10min 53s\n",
            "Wall time: 11min 15s\n"
          ]
        }
      ],
      "source": [
        "%%time\n",
        "\n",
        "history = defaultdict(list)\n",
        "best_accuracy = 0\n",
        "\n",
        "for epoch in range(EPOCHS):\n",
        "\n",
        "  print(f'Epoch {epoch + 1}/{EPOCHS}')\n",
        "  print('-' * 10)\n",
        "\n",
        "  train_acc, train_loss = train_epoch(\n",
        "    model,\n",
        "    train_data_loader,    \n",
        "    loss_fn, \n",
        "    optimizer, \n",
        "    device, \n",
        "    scheduler, \n",
        "    len(df_train)\n",
        "  )\n",
        "\n",
        "  print(f'Train loss {train_loss} accuracy {train_acc}')\n",
        "\n",
        "  val_acc, val_loss = eval_model(\n",
        "    model,\n",
        "    val_data_loader,\n",
        "    loss_fn, \n",
        "    device, \n",
        "    len(df_val)\n",
        "  )\n",
        "\n",
        "  print(f'Val   loss {val_loss} accuracy {val_acc}')\n",
        "  print()\n",
        "\n",
        "  history['train_acc'].append(train_acc)\n",
        "  history['train_loss'].append(train_loss)\n",
        "  history['val_acc'].append(val_acc)\n",
        "  history['val_loss'].append(val_loss)\n",
        "\n",
        "  if val_acc > best_accuracy:\n",
        "    torch.save(model.state_dict(), 'best_model_state.bin')\n",
        "    best_accuracy = val_acc"
      ]
    },
    {
      "cell_type": "code",
      "source": [
        "history_train_acc = torch.Tensor.cpu(torch.tensor(history['train_acc']))\n",
        "history_val_acc = torch.Tensor.cpu(torch.tensor(history['val_acc']))\n",
        "\n",
        "plt.plot(history_train_acc, label='train accuracy')\n",
        "plt.plot(history_val_acc, label='validation accuracy')\n",
        "\n",
        "plt.title('Training history')\n",
        "plt.ylabel('Accuracy')\n",
        "plt.xlabel('Epoch')\n",
        "plt.legend()\n",
        "plt.ylim([0.5, 1]);"
      ],
      "metadata": {
        "colab": {
          "base_uri": "https://localhost:8080/",
          "height": 523
        },
        "id": "m8m7ePGtSJRZ",
        "outputId": "97bf6fbd-e263-4f24-ee0c-eb5b4ffb5cb9"
      },
      "execution_count": null,
      "outputs": [
        {
          "output_type": "display_data",
          "data": {
            "text/plain": [
              "<Figure size 864x576 with 1 Axes>"
            ],
            "image/png": "[encoded data removed]"
          },
          "metadata": {
            "image/png": {
              "width": 732,
              "height": 506
            }
          }
        }
      ]
    },
    {
      "cell_type": "code",
      "source": [
        "history_train_acc = torch.Tensor.cpu(torch.tensor(history['train_loss']))\n",
        "history_val_acc = torch.Tensor.cpu(torch.tensor(history['val_loss']))\n",
        "\n",
        "plt.plot(history_train_acc, label='train loss')\n",
        "plt.plot(history_val_acc, label='validation loss')\n",
        "\n",
        "plt.title('Training history')\n",
        "plt.ylabel('Accuracy')\n",
        "plt.xlabel('Epoch')\n",
        "plt.legend()\n",
        "plt.ylim([0, 1]);"
      ],
      "metadata": {
        "colab": {
          "base_uri": "https://localhost:8080/",
          "height": 523
        },
        "id": "jxLZwwjgSP8y",
        "outputId": "7c07a308-a909-4579-956e-bc398b08065b"
      },
      "execution_count": null,
      "outputs": [
        {
          "output_type": "display_data",
          "data": {
            "text/plain": [
              "<Figure size 864x576 with 1 Axes>"
            ],
            "image/png": "[encoded data removed]"
          },
          "metadata": {
            "image/png": {
              "width": 732,
              "height": 506
            }
          }
        }
      ]
    },
    {
      "cell_type": "markdown",
      "source": [
        "## **Evaluation**"
      ],
      "metadata": {
        "id": "o3HDbzpovdNz"
      }
    },
    {
      "cell_type": "code",
      "execution_count": null,
      "metadata": {
        "id": "FWa2Y3BFLij4",
        "colab": {
          "base_uri": "https://localhost:8080/"
        },
        "outputId": "c42d746f-2f19-40d8-d227-30709d12159a"
      },
      "outputs": [
        {
          "output_type": "stream",
          "name": "stderr",
          "text": [
            "/usr/local/lib/python3.7/dist-packages/torch/utils/data/dataloader.py:560: UserWarning: This DataLoader will create 4 worker processes in total. Our suggested max number of worker in current system is 2, which is smaller than what this DataLoader is going to create. Please be aware that excessive worker creation might get DataLoader running slow or even freeze, lower the worker number to avoid potential slowness/freeze if necessary.\n",
            "  cpuset_checked))\n",
            "Truncation was not explicitly activated but `max_length` is provided a specific value, please use `truncation=True` to explicitly truncate examples to max length. Defaulting to 'longest_first' truncation strategy. If you encode pairs of sequences (GLUE-style) with the tokenizer you can select this strategy more precisely by providing a specific strategy to `truncation`.\n",
            "Truncation was not explicitly activated but `max_length` is provided a specific value, please use `truncation=True` to explicitly truncate examples to max length. Defaulting to 'longest_first' truncation strategy. If you encode pairs of sequences (GLUE-style) with the tokenizer you can select this strategy more precisely by providing a specific strategy to `truncation`.\n",
            "/usr/local/lib/python3.7/dist-packages/transformers/tokenization_utils_base.py:2307: FutureWarning: The `pad_to_max_length` argument is deprecated and will be removed in a future version, use `padding=True` or `padding='longest'` to pad to the longest sequence in the batch, or use `padding='max_length'` to pad to a max length. In this case, you can give a specific length with `max_length` (e.g. `max_length=45`) or leave max_length to None to pad to the maximal input size of the model (e.g. 512 for Bert).\n",
            "  FutureWarning,\n",
            "Truncation was not explicitly activated but `max_length` is provided a specific value, please use `truncation=True` to explicitly truncate examples to max length. Defaulting to 'longest_first' truncation strategy. If you encode pairs of sequences (GLUE-style) with the tokenizer you can select this strategy more precisely by providing a specific strategy to `truncation`.\n",
            "/usr/local/lib/python3.7/dist-packages/transformers/tokenization_utils_base.py:2307: FutureWarning: The `pad_to_max_length` argument is deprecated and will be removed in a future version, use `padding=True` or `padding='longest'` to pad to the longest sequence in the batch, or use `padding='max_length'` to pad to a max length. In this case, you can give a specific length with `max_length` (e.g. `max_length=45`) or leave max_length to None to pad to the maximal input size of the model (e.g. 512 for Bert).\n",
            "  FutureWarning,\n",
            "Truncation was not explicitly activated but `max_length` is provided a specific value, please use `truncation=True` to explicitly truncate examples to max length. Defaulting to 'longest_first' truncation strategy. If you encode pairs of sequences (GLUE-style) with the tokenizer you can select this strategy more precisely by providing a specific strategy to `truncation`.\n",
            "/usr/local/lib/python3.7/dist-packages/transformers/tokenization_utils_base.py:2307: FutureWarning: The `pad_to_max_length` argument is deprecated and will be removed in a future version, use `padding=True` or `padding='longest'` to pad to the longest sequence in the batch, or use `padding='max_length'` to pad to a max length. In this case, you can give a specific length with `max_length` (e.g. `max_length=45`) or leave max_length to None to pad to the maximal input size of the model (e.g. 512 for Bert).\n",
            "  FutureWarning,\n",
            "/usr/local/lib/python3.7/dist-packages/transformers/tokenization_utils_base.py:2307: FutureWarning: The `pad_to_max_length` argument is deprecated and will be removed in a future version, use `padding=True` or `padding='longest'` to pad to the longest sequence in the batch, or use `padding='max_length'` to pad to a max length. In this case, you can give a specific length with `max_length` (e.g. `max_length=45`) or leave max_length to None to pad to the maximal input size of the model (e.g. 512 for Bert).\n",
            "  FutureWarning,\n"
          ]
        },
        {
          "output_type": "execute_result",
          "data": {
            "text/plain": [
              "0.6709456568249893"
            ]
          },
          "metadata": {},
          "execution_count": 36
        }
      ],
      "source": [
        "test_acc, _ = eval_model(\n",
        "  model,\n",
        "  test_data_loader,\n",
        "  loss_fn,\n",
        "  device,\n",
        "  len(df_test)\n",
        ")\n",
        "\n",
        "test_acc.item()"
      ]
    },
    {
      "cell_type": "code",
      "execution_count": null,
      "metadata": {
        "id": "FHhrhEdkLs4m"
      },
      "outputs": [],
      "source": [
        "def get_predictions(model, data_loader):\n",
        "  model = model.eval()\n",
        "  \n",
        "  sar_texts = []\n",
        "  predictions = []\n",
        "  prediction_probs = []\n",
        "  real_values = []\n",
        "\n",
        "  with torch.no_grad():\n",
        "    for d in data_loader:\n",
        "      texts = d[\"sar_text\"]\n",
        "      input_ids = d[\"input_ids\"].to(device)\n",
        "      attention_mask = d[\"attention_mask\"].to(device)\n",
        "      targets = d[\"targets\"].to(device)\n",
        "      user_ids = d['user_id'].to(device) \n",
        "      user_embeddings = [] \n",
        "      for i in range(len(input_ids)):\n",
        "        if user_ids[i].item() in dict_user_embeddings:\n",
        "          user_embeddings.append(dict_user_embeddings[user_ids[i].item()])\n",
        "\n",
        "      user_embeddings = torch.tensor(user_embeddings).to(device)\n",
        "      outputs = model(\n",
        "        input_ids=input_ids,\n",
        "        attention_mask=attention_mask,\n",
        "        user_embeddings = user_embeddings \n",
        "      )\n",
        "      _, preds = torch.max(outputs, dim=1)\n",
        "\n",
        "      probs = F.softmax(outputs, dim=1)\n",
        "\n",
        "      sar_texts.extend(texts)\n",
        "      predictions.extend(preds)\n",
        "      prediction_probs.extend(probs)\n",
        "      real_values.extend(targets)\n",
        "\n",
        "  predictions = torch.stack(predictions).cpu()\n",
        "  prediction_probs = torch.stack(prediction_probs).cpu()\n",
        "  real_values = torch.stack(real_values).cpu()\n",
        "  return sar_texts, predictions, prediction_probs, real_values"
      ]
    },
    {
      "cell_type": "code",
      "execution_count": null,
      "metadata": {
        "id": "1M-W2I5TL7XK",
        "colab": {
          "base_uri": "https://localhost:8080/"
        },
        "outputId": "d51ec83a-2b16-4219-c284-6f622764e03b"
      },
      "outputs": [
        {
          "output_type": "stream",
          "name": "stderr",
          "text": [
            "/usr/local/lib/python3.7/dist-packages/torch/utils/data/dataloader.py:560: UserWarning: This DataLoader will create 4 worker processes in total. Our suggested max number of worker in current system is 2, which is smaller than what this DataLoader is going to create. Please be aware that excessive worker creation might get DataLoader running slow or even freeze, lower the worker number to avoid potential slowness/freeze if necessary.\n",
            "  cpuset_checked))\n",
            "Truncation was not explicitly activated but `max_length` is provided a specific value, please use `truncation=True` to explicitly truncate examples to max length. Defaulting to 'longest_first' truncation strategy. If you encode pairs of sequences (GLUE-style) with the tokenizer you can select this strategy more precisely by providing a specific strategy to `truncation`.\n",
            "Truncation was not explicitly activated but `max_length` is provided a specific value, please use `truncation=True` to explicitly truncate examples to max length. Defaulting to 'longest_first' truncation strategy. If you encode pairs of sequences (GLUE-style) with the tokenizer you can select this strategy more precisely by providing a specific strategy to `truncation`.\n",
            "/usr/local/lib/python3.7/dist-packages/transformers/tokenization_utils_base.py:2307: FutureWarning: The `pad_to_max_length` argument is deprecated and will be removed in a future version, use `padding=True` or `padding='longest'` to pad to the longest sequence in the batch, or use `padding='max_length'` to pad to a max length. In this case, you can give a specific length with `max_length` (e.g. `max_length=45`) or leave max_length to None to pad to the maximal input size of the model (e.g. 512 for Bert).\n",
            "  FutureWarning,\n",
            "Truncation was not explicitly activated but `max_length` is provided a specific value, please use `truncation=True` to explicitly truncate examples to max length. Defaulting to 'longest_first' truncation strategy. If you encode pairs of sequences (GLUE-style) with the tokenizer you can select this strategy more precisely by providing a specific strategy to `truncation`.\n",
            "/usr/local/lib/python3.7/dist-packages/transformers/tokenization_utils_base.py:2307: FutureWarning: The `pad_to_max_length` argument is deprecated and will be removed in a future version, use `padding=True` or `padding='longest'` to pad to the longest sequence in the batch, or use `padding='max_length'` to pad to a max length. In this case, you can give a specific length with `max_length` (e.g. `max_length=45`) or leave max_length to None to pad to the maximal input size of the model (e.g. 512 for Bert).\n",
            "  FutureWarning,\n",
            "Truncation was not explicitly activated but `max_length` is provided a specific value, please use `truncation=True` to explicitly truncate examples to max length. Defaulting to 'longest_first' truncation strategy. If you encode pairs of sequences (GLUE-style) with the tokenizer you can select this strategy more precisely by providing a specific strategy to `truncation`.\n",
            "/usr/local/lib/python3.7/dist-packages/transformers/tokenization_utils_base.py:2307: FutureWarning: The `pad_to_max_length` argument is deprecated and will be removed in a future version, use `padding=True` or `padding='longest'` to pad to the longest sequence in the batch, or use `padding='max_length'` to pad to a max length. In this case, you can give a specific length with `max_length` (e.g. `max_length=45`) or leave max_length to None to pad to the maximal input size of the model (e.g. 512 for Bert).\n",
            "  FutureWarning,\n",
            "/usr/local/lib/python3.7/dist-packages/transformers/tokenization_utils_base.py:2307: FutureWarning: The `pad_to_max_length` argument is deprecated and will be removed in a future version, use `padding=True` or `padding='longest'` to pad to the longest sequence in the batch, or use `padding='max_length'` to pad to a max length. In this case, you can give a specific length with `max_length` (e.g. `max_length=45`) or leave max_length to None to pad to the maximal input size of the model (e.g. 512 for Bert).\n",
            "  FutureWarning,\n"
          ]
        }
      ],
      "source": [
        "y_review_texts, y_pred, y_pred_probs, y_test = get_predictions(\n",
        "  model,\n",
        "  test_data_loader\n",
        ")"
      ]
    },
    {
      "cell_type": "code",
      "execution_count": null,
      "metadata": {
        "id": "jYuWfot5L70e",
        "colab": {
          "base_uri": "https://localhost:8080/"
        },
        "outputId": "e1e8df01-7b93-4a40-d382-e91690b155a3"
      },
      "outputs": [
        {
          "output_type": "stream",
          "name": "stdout",
          "text": [
            "              precision    recall  f1-score   support\n",
            "\n",
            "    positive       0.70      0.63      0.67      2428\n",
            "    negative       0.64      0.71      0.67      2246\n",
            "\n",
            "    accuracy                           0.67      4674\n",
            "   macro avg       0.67      0.67      0.67      4674\n",
            "weighted avg       0.67      0.67      0.67      4674\n",
            "\n"
          ]
        }
      ],
      "source": [
        "print(classification_report(y_test, y_pred, target_names=class_names))"
      ]
    },
    {
      "cell_type": "code",
      "execution_count": null,
      "metadata": {
        "id": "6GqzMUkQL9tY",
        "colab": {
          "base_uri": "https://localhost:8080/"
        },
        "outputId": "dabedb8f-eb1c-45c0-aefa-5a03d4bb3bc7"
      },
      "outputs": [
        {
          "output_type": "display_data",
          "data": {
            "text/plain": [
              "<Figure size 864x576 with 2 Axes>"
            ],
            "image/png": "[encoded data removed]"
          },
          "metadata": {
            "image/png": {
              "width": 733,
              "height": 516
            }
          }
        }
      ],
      "source": [
        "def show_confusion_matrix(confusion_matrix):\n",
        "  hmap = sns.heatmap(confusion_matrix, annot=True, fmt=\"d\", cmap=\"Blues\")\n",
        "  hmap.yaxis.set_ticklabels(hmap.yaxis.get_ticklabels(), rotation=0, ha='right')\n",
        "  hmap.xaxis.set_ticklabels(hmap.xaxis.get_ticklabels(), rotation=30, ha='right')\n",
        "  plt.ylabel('True sentiment')\n",
        "  plt.xlabel('Predicted sentiment');\n",
        "\n",
        "cm = confusion_matrix(y_test, y_pred)\n",
        "df_cm = pd.DataFrame(cm, index=class_names, columns=class_names)\n",
        "show_confusion_matrix(df_cm)"
      ]
    },
    {
      "cell_type": "markdown",
      "source": [
        "## **Saving json file and model**\n",
        "\n"
      ],
      "metadata": {
        "id": "e5A57xhFB6R6"
      }
    },
    {
      "cell_type": "code",
      "source": [
        "from metrics import metrics, json_metrics #when not in colab from utils import metrics\n",
        "\n",
        "sar_ids = df_test['sar_id']\n",
        "metrics = metrics(y_test, y_pred, ['1','0'])\n",
        "df= pd.DataFrame({'sar_id': sar_ids, 'label': y_test, 'prediction': y_pred})\n",
        "json_metrics(\"/content/drive/MyDrive/SP/JSON/bert_userembeddings3_prediction.json\", \"sentence BERT\", \"User_Embedings3_Prediction\",metrics, df)"
      ],
      "metadata": {
        "id": "14_ttAx2zyo_"
      },
      "execution_count": null,
      "outputs": []
    },
    {
      "cell_type": "code",
      "source": [
        "torch.save(model, 'drive/MyDrive/SP/Models/Bert_Model_UserEmbeddings3_Prediction')"
      ],
      "metadata": {
        "id": "0GxKv_VXB_ET"
      },
      "execution_count": null,
      "outputs": []
    }
  ],
  "metadata": {
    "accelerator": "GPU",
    "colab": {
      "collapsed_sections": [],
      "name": "BERT_user_embedding_attribution_prediction.ipynb",
      "provenance": [],
      "include_colab_link": true
    },
    "gpuClass": "standard",
    "kernelspec": {
      "display_name": "Python 3",
      "name": "python3"
    },
    "language_info": {
      "name": "python"
    }
  },
  "nbformat": 4,
  "nbformat_minor": 0
}