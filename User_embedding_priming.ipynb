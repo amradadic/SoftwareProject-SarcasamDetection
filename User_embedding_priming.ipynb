{
  "cells": [
    {
      "cell_type": "code",
      "execution_count": 1,
      "metadata": {
        "colab": {
          "base_uri": "https://localhost:8080/"
        },
        "id": "KCpE8Xuw9AmE",
        "outputId": "e17bdd72-0ba4-439a-c070-83cbc7a463a7"
      },
      "outputs": [
        {
          "name": "stdout",
          "output_type": "stream",
          "text": [
            "Mounted at /content/drive\n"
          ]
        }
      ],
      "source": [
        "from google.colab import drive\n",
        "drive.mount('/content/drive')\n",
        "\n",
        "import os\n",
        "os.chdir(\"/content/drive/My Drive/SPIRS\")"
      ]
    },
    {
      "cell_type": "markdown",
      "metadata": {
        "id": "Z45NxNVMOUVv"
      },
      "source": [
        "#USER HISTORY"
      ]
    },
    {
      "cell_type": "code",
      "execution_count": null,
      "metadata": {
        "id": "1MygapyFJF3z"
      },
      "outputs": [],
      "source": [
        "OUTPUT_FILE_HISTORY = 'user_embeddings_non_sarcastic_history_50.csv'   #file in which we write user history\n",
        "INPUT_FILE = 'spirs_history/SPIRS-non-sarcastic-history.txt'\n",
        "TOKENS_NO = 50"
      ]
    },
    {
      "cell_type": "code",
      "execution_count": null,
      "metadata": {
        "id": "mDAy-oaNf--8"
      },
      "outputs": [],
      "source": [
        "import random\n",
        "import nltk\n",
        "import zipfile\n",
        "import csv\n",
        "from csv import DictWriter\n",
        "from utils.preprocessing import process_tweet\n",
        "\n",
        "os.chdir(\"/content/drive/My Drive/SP\")\n",
        "csv_file = open(OUTPUT_FILE_HISTORY, 'a')\n",
        "dictwriter_object = DictWriter(csv_file, fieldnames=['user_id', 'history'])\n",
        "\n",
        "os.chdir(\"/content/drive/My Drive/SPIRS\")\n",
        "with zipfile.ZipFile('spirs_history.zip') as zip:\n",
        "    with zip.open(INPUT_FILE, mode='r') as file:\n",
        "      line = file.readline().split(b'\\t')\n",
        "      old_user_id = int(line[0])\n",
        "\n",
        "with zipfile.ZipFile('spirs_history.zip') as zip:\n",
        "    with zip.open(INPUT_FILE, mode='r') as file:\n",
        "      sar_text = []\n",
        "      for line in file:\n",
        "        line = line.decode('UTF-8')\n",
        "        line = line.split('\\t')\n",
        "        user_id = int(line[0])\n",
        "        \n",
        "        tweet_text = process_tweet(line[2]) \n",
        "        \n",
        "        if (len(tweet_text)  == 0):\n",
        "          continue\n",
        "        \n",
        "        if user_id == old_user_id: \n",
        "          sar_text.append(tweet_text)\n",
        "        else:\n",
        "          sar_text = random.sample(sar_text, len(sar_text))\n",
        "          sentences = ''\n",
        "          count = 0\n",
        "          #count tokens, add tweets to embedding \n",
        "          for tweet in sar_text:\n",
        "            tokens = nltk.word_tokenize(tweet)\n",
        "            count += len(tokens) + 1 #+1 because of [SEP]\n",
        "            if count <= TOKENS_NO:\n",
        "              sentences += tweet + ' [SEP] '\n",
        "            else:\n",
        "              count -= len(tokens)\n",
        "              sar_text = []\n",
        "              break\n",
        "\n",
        "          #if num of tokens is smaller than expected add padding\n",
        "          while count <= TOKENS_NO:\n",
        "            sentences += ' [PAD]'\n",
        "            count += 1\n",
        "\n",
        "          embedding = {'user_id': old_user_id, 'history': sentences}\n",
        "          dictwriter_object.writerow(embedding)\n",
        "\n",
        "          old_user_id = user_id\n",
        "          "
      ]
    },
    {
      "cell_type": "markdown",
      "metadata": {
        "id": "uCzN2XrBMtYG"
      },
      "source": [
        "#CONCAT USER HISTORY WITH TWEETS"
      ]
    },
    {
      "cell_type": "code",
      "execution_count": null,
      "metadata": {
        "id": "X7P-9F6vEjnB"
      },
      "outputs": [],
      "source": [
        "!pip install emoji"
      ]
    },
    {
      "cell_type": "code",
      "execution_count": null,
      "metadata": {
        "id": "6pmF-6m4dZBX"
      },
      "outputs": [],
      "source": [
        "from csv import reader\n",
        "import csv\n",
        "import pandas as pd\n",
        "import numpy as np\n",
        "from utils.preprocessing import remove_na_from_column, preprocess_tweets\n",
        "\n",
        "os.chdir(\"/content/drive/My Drive/SPIRS\")\n",
        "\n",
        "INPUT_FILE = 'SPIRS-non-sarcastic.csv'\n",
        "\n",
        "df = pd.read_csv(INPUT_FILE)\n",
        "df = pd.DataFrame({'sar_user': np.array(df['sar_user']), 'sar_id': np.array(df['sar_id']), 'sar_text': np.array(df['sar_text'])})\n",
        "df = remove_na_from_column(df, 'sar_user')\n",
        "df = remove_na_from_column(df, 'sar_id')\n",
        "df = remove_na_from_column(df, 'sar_text')\n",
        "df = preprocess_tweets(df, 'sar_text')\n",
        "\n",
        "for i in range(len(df['sar_user'])):\n",
        "  user = df['sar_user'][i].split('|')\n",
        "  df['sar_user'][i] = int(user[-1])"
      ]
    },
    {
      "cell_type": "code",
      "execution_count": null,
      "metadata": {
        "id": "963XS9XrMtFG"
      },
      "outputs": [],
      "source": [
        "os.chdir(\"/content/drive/My Drive/SP\")\n",
        "\n",
        "INPUT_FILE_HISTORY = 'user_embeddings_non_sarcastic_history_50.csv'\n",
        "OUTPUT_FILE_EMBEDDING = 'user_embeddings_non_sarcastic_end_50.csv'\n",
        "\n",
        "file_history = open(INPUT_FILE_HISTORY, 'r')\n",
        "csv_reader = reader(file_history)\n",
        "\n",
        "file_write = open(OUTPUT_FILE_EMBEDDING, 'a')\n",
        "writer = csv.writer(file_write)\n",
        "writer.writerow(['user_id', 'sar_id', 'sar_text'])\n",
        "\n",
        "end = True   #if true add tweet to the end\n",
        "\n",
        "for row in csv_reader:\n",
        "  users_tweets = df[df['sar_user'] == int(row[0])]   #find tweets of user\n",
        "  sar_id = users_tweets['sar_id'].values\n",
        "  tweets = users_tweets['sar_text'].values\n",
        "\n",
        "  for i in range(len(tweets)):\n",
        "    if end:\n",
        "      extended_tweet = '[CLS] ' + row[1] + ' ' + tweets[i]\n",
        "    else:\n",
        "      extended_tweet = '[CLS] ' + tweets[i] + ' [SEP] ' + row[1] \n",
        "    \n",
        "    writer.writerow([str(row[0]), str(sar_id[i]), extended_tweet])   #user_id, sar_id, tweet + history"
      ]
    }
  ],
  "metadata": {
    "colab": {
      "collapsed_sections": [
        "Z45NxNVMOUVv"
      ],
      "name": "user_embeddings_priming.ipynb",
      "provenance": []
    },
    "kernelspec": {
      "display_name": "Python 3.9.13 64-bit (windows store)",
      "language": "python",
      "name": "python3"
    },
    "language_info": {
      "name": "python",
      "version": "3.9.13"
    },
    "vscode": {
      "interpreter": {
        "hash": "ca897458d0c37cfffe0a41b71a9fe69a0f445e631cc3deb43972b8564af24595"
      }
    }
  },
  "nbformat": 4,
  "nbformat_minor": 0
}
