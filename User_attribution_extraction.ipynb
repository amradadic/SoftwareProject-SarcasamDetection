{
 "cells": [
  {
   "cell_type": "code",
   "execution_count": 1,
   "metadata": {
    "id": "N4w0AKlTZCBK"
   },
   "outputs": [
    {
     "name": "stderr",
     "output_type": "stream",
     "text": [
      "/usr/lib/python3/dist-packages/requests/__init__.py:89: RequestsDependencyWarning: urllib3 (1.26.10) or chardet (3.0.4) doesn't match a supported version!\n",
      "  warnings.warn(\"urllib3 ({}) or chardet ({}) doesn't match a supported \"\n"
     ]
    }
   ],
   "source": [
    "import torch.nn as nn\n",
    "import torch.nn.functional as F\n",
    "import torch\n",
    "from datasets import load_metric\n",
    "import pandas as pd\n",
    "import numpy as np\n",
    "from sklearn.feature_extraction.text import CountVectorizer\n",
    "from torch.utils.data import (\n",
    "    DataLoader, TensorDataset\n",
    ") \n",
    "from sklearn.model_selection import train_test_split\n",
    "import scipy.sparse"
   ]
  },
  {
   "cell_type": "code",
   "execution_count": 22,
   "metadata": {},
   "outputs": [],
   "source": [
    "#loading the embedding layer\n",
    "with open('embdedding_matrix.npy', 'rb') as f:\n",
    "    embeddings = np.load(f)\n",
    "final_embedding = torch.from_numpy(embeddings)\n",
    "embedding_layer = nn.Embedding.from_pretrained(final_embedding)"
   ]
  },
  {
   "cell_type": "code",
   "execution_count": 23,
   "metadata": {},
   "outputs": [
    {
     "data": {
      "text/plain": [
       "Embedding(2246293, 768)"
      ]
     },
     "execution_count": 23,
     "metadata": {},
     "output_type": "execute_result"
    }
   ],
   "source": [
    "embedding_layer"
   ]
  },
  {
   "cell_type": "code",
   "execution_count": 67,
   "metadata": {},
   "outputs": [],
   "source": [
    "#"
   ]
  },
  {
   "cell_type": "code",
   "execution_count": 37,
   "metadata": {
    "id": "KEHEIm9nYQyT"
   },
   "outputs": [],
   "source": [
    "class MLPAttribution(nn.Module):\n",
    "    def __init__(self, input_dim, hidden_dim, output_dim):\n",
    "        super().__init__()\n",
    "        self.linear1 = nn.Linear(input_dim, hidden_dim)\n",
    "        self.linear2 = nn.Linear(hidden_dim, output_dim)\n",
    "        self.relu = nn.ReLU()\n",
    "        \n",
    "    def forward(self, input):\n",
    "        output = self.relu(self.linear1(input))\n",
    "        return self.linear2(F.dropout(output, p=0.2, training=self.training))"
   ]
  },
  {
   "cell_type": "code",
   "execution_count": 38,
   "metadata": {
    "id": "bbIA1AnLcXtY"
   },
   "outputs": [],
   "source": [
    "def evaluate_mlp(model, dataloader):\n",
    "    accuracy_metric = load_metric(\"accuracy\")\n",
    "    f1_macro = load_metric(\"f1\")\n",
    "    f1_weighted = load_metric(\"f1\")\n",
    "   \n",
    "    model.eval()    \n",
    "    \n",
    "    model = model.float()\n",
    "    for batch in dataloader:\n",
    "        with torch.no_grad():\n",
    "            input = batch[0]\n",
    "            labels = batch[1].to(device)\n",
    "            embedding = embedding_layer(input).to(device)\n",
    "            logits = model(embedding.float())\n",
    "\n",
    "        predictions = torch.argmax(logits, dim=-1)\n",
    "        accuracy_metric.add_batch(predictions=predictions, references=labels)\n",
    "        f1_macro.add_batch(predictions=predictions, references=labels)\n",
    "        f1_weighted.add_batch(predictions=predictions, references=labels)\n",
    "\n",
    "    return {'accuracy': accuracy_metric.compute()['accuracy'], 'f1_score_macro': f1_macro.compute(average=\"macro\")['f1'], \n",
    "        'f1_score_weighted': f1_weighted.compute(average=\"weighted\")['f1']}"
   ]
  },
  {
   "cell_type": "code",
   "execution_count": 74,
   "metadata": {},
   "outputs": [],
   "source": [
    "def CB_loss(labels, logits, samples_per_cls, no_of_classes, loss_type, beta, gamma):\n",
    "    \"\"\"Compute the Class Balanced Loss between `logits` and the ground truth `labels`.\n",
    "    Class Balanced Loss: ((1-beta)/(1-beta^n))*Loss(labels, logits)\n",
    "    where Loss is one of the standard losses used for Neural Networks.\n",
    "    Args:\n",
    "      labels: A int tensor of size [batch].\n",
    "      logits: A float tensor of size [batch, no_of_classes].\n",
    "      samples_per_cls: A python list of size [no_of_classes].\n",
    "      no_of_classes: total number of classes. int\n",
    "      loss_type: string. One of \"sigmoid\", \"focal\", \"softmax\".\n",
    "      beta: float. Hyperparameter for Class balanced loss.\n",
    "      gamma: float. Hyperparameter for Focal loss.\n",
    "    Returns:\n",
    "      cb_loss: A float tensor representing class balanced loss\n",
    "    \"\"\"\n",
    "    effective_num = 1.0 - np.power(beta, samples_per_cls)\n",
    "    weights = (1.0 - beta) / np.array(effective_num)\n",
    "    weights = weights / np.sum(weights) * no_of_classes\n",
    "\n",
    "    labels_one_hot = F.one_hot(labels, no_of_classes).float()\n",
    "\n",
    "    weights = torch.tensor(weights, dtype=torch.float32).to(device)\n",
    "    weights = weights.unsqueeze(0)\n",
    "    weights = weights.repeat(labels_one_hot.shape[0], 1) * labels_one_hot\n",
    "    weights = weights.sum(1)\n",
    "    weights = weights.unsqueeze(1)\n",
    "    weights = weights.repeat(1, no_of_classes)\n",
    "\n",
    "    if loss_type == \"focal\":\n",
    "        cb_loss = focal_loss(labels_one_hot, logits, weights, gamma)\n",
    "    elif loss_type == \"sigmoid\":\n",
    "        cb_loss = F.binary_cross_entropy_with_logits(input=logits, target=labels_one_hot, weight=weights)\n",
    "    elif loss_type == \"softmax\":\n",
    "        pred = logits.softmax(dim=1)\n",
    "        cb_loss = F.binary_cross_entropy(input=pred, target=labels_one_hot, weight=weights)\n",
    "\n",
    "    return cb_loss"
   ]
  },
  {
   "cell_type": "code",
   "execution_count": 40,
   "metadata": {},
   "outputs": [],
   "source": [
    "def loss_fn(output, targets, samples_per_cls, no_of_classes=2, loss_type = \"softmax\"):\n",
    "    beta = 0.9999\n",
    "    gamma = 2.0\n",
    "\n",
    "    return CB_loss(targets, output, samples_per_cls, no_of_classes, loss_type, beta, gamma)"
   ]
  },
  {
   "cell_type": "code",
   "execution_count": 3,
   "metadata": {},
   "outputs": [],
   "source": [
    "#"
   ]
  },
  {
   "cell_type": "code",
   "execution_count": 42,
   "metadata": {},
   "outputs": [],
   "source": [
    "with open('tweets_to_ids.pkl', 'rb') as handle:\n",
    "    tweets_to_ids = pickle.load(handle)\n",
    "    \n",
    "with open('tweets_to_users.pkl', 'rb') as handle:\n",
    "    tweets_to_users = pickle.load(handle)"
   ]
  },
  {
   "cell_type": "code",
   "execution_count": 43,
   "metadata": {},
   "outputs": [
    {
     "name": "stdout",
     "output_type": "stream",
     "text": [
      "2246293\n",
      "2246293\n"
     ]
    }
   ],
   "source": [
    "print(len(tweets_to_ids))\n",
    "print(len(tweets_to_users))"
   ]
  },
  {
   "cell_type": "code",
   "execution_count": 44,
   "metadata": {},
   "outputs": [],
   "source": [
    "user_tweets = {}\n",
    "\n",
    "for tweet in tweets_to_users:\n",
    "    \n",
    "    user = int(tweets_to_users[tweet].replace('\\n',''))\n",
    "    \n",
    "    if user not in user_tweets:\n",
    "        user_tweets[user] = []\n",
    "        \n",
    "    user_tweets[user].append(tweet_to_id[tweet])"
   ]
  },
  {
   "cell_type": "code",
   "execution_count": null,
   "metadata": {},
   "outputs": [],
   "source": [
    "import random\n",
    "for key in user_tweets:\n",
    "    if len(user_tweets[key]) >= 100:\n",
    "        user_tweets[key] = random.sample(user_tweets[key], 100)"
   ]
  },
  {
   "cell_type": "code",
   "execution_count": 46,
   "metadata": {},
   "outputs": [
    {
     "data": {
      "text/plain": [
       "22315"
      ]
     },
     "execution_count": 46,
     "metadata": {},
     "output_type": "execute_result"
    }
   ],
   "source": [
    "len(user_tweets)"
   ]
  },
  {
   "cell_type": "code",
   "execution_count": 47,
   "metadata": {},
   "outputs": [
    {
     "name": "stdout",
     "output_type": "stream",
     "text": [
      "GPU is available\n",
      "1\n"
     ]
    }
   ],
   "source": [
    "is_cuda = torch.cuda.is_available()\n",
    "\n",
    "if is_cuda:\n",
    "    device = torch.device(\"cuda\")\n",
    "    print(\"GPU is available\")\n",
    "else:\n",
    "    device = torch.device(\"cpu\")\n",
    "    print(\"GPU not available, CPU used\")\n",
    "    \n",
    "torch.cuda.set_device(1)\n",
    "print(torch.cuda.current_device())"
   ]
  },
  {
   "cell_type": "code",
   "execution_count": 48,
   "metadata": {},
   "outputs": [],
   "source": [
    "#num of train users\n",
    "output_dim = 15329"
   ]
  },
  {
   "cell_type": "code",
   "execution_count": 49,
   "metadata": {},
   "outputs": [
    {
     "data": {
      "text/plain": [
       "MLPAttribution(\n",
       "  (linear1): Linear(in_features=768, out_features=384, bias=True)\n",
       "  (linear2): Linear(in_features=384, out_features=15329, bias=True)\n",
       "  (relu): ReLU()\n",
       ")"
      ]
     },
     "execution_count": 49,
     "metadata": {},
     "output_type": "execute_result"
    }
   ],
   "source": [
    "model = MLPAttribution(768, 384, output_dim).to(device)\n",
    "model.load_state_dict(torch.load('./state_dict.pt'), strict=False)\n",
    "optimizer = torch.optim.Adam(model.parameters(), lr=1e-4)\n",
    "model.double()"
   ]
  },
  {
   "cell_type": "code",
   "execution_count": 50,
   "metadata": {},
   "outputs": [],
   "source": [
    "def extract_batches(seq, batch_size=128):\n",
    "    n = len(seq) // batch_size\n",
    "    batches  = []\n",
    "\n",
    "    for i in range(n):\n",
    "        batches.append(seq[i * batch_size:(i+1) * batch_size])\n",
    "    if len(seq) % batch_size != 0:\n",
    "        batches.append(seq[n * batch_size:])\n",
    "    return batches"
   ]
  },
  {
   "cell_type": "code",
   "execution_count": 63,
   "metadata": {},
   "outputs": [],
   "source": [
    "embedding_type = 'prediction'"
   ]
  },
  {
   "cell_type": "code",
   "execution_count": 64,
   "metadata": {},
   "outputs": [],
   "source": [
    "user_embeddings = {}"
   ]
  },
  {
   "cell_type": "code",
   "execution_count": 65,
   "metadata": {},
   "outputs": [],
   "source": [
    "for author in user_tweets:\n",
    "    tweets = user_tweets[author]\n",
    "    \n",
    "    batches_tweets = extract_batches(tweets, 256)\n",
    "    batch_embeddings = [torch.tensor([embeddings[v] for v in batch]) for batch in batches_tweets]\n",
    "    \n",
    "    size = 0\n",
    "    if embedding_type == 'distribution':\n",
    "        embeddings_final = []\n",
    "    else:\n",
    "        embeddings_final = torch.zeros(output_dim)\n",
    "\n",
    "    for batch in batch_embeddings:\n",
    "        size += batch.size()[0]                 \n",
    "        with torch.no_grad():\n",
    "            output = model(batch.to(device))\n",
    "            if embedding_type == 'distribution':\n",
    "                output = F.normalize(output, p=2, dim=1)\n",
    "                embedding = output.cpu().mean(axis=0).unsqueeze(0)\n",
    "                embeddings_final.append(embedding)\n",
    "            elif embedding_type == 'prediction':\n",
    "                predictions = torch.argmax(output, dim=-1)\n",
    "                for i in predictions:\n",
    "                    embeddings_final[i] += 1\n",
    "            else:\n",
    "                raise Exception(\"Wrong embedding type\")\n",
    "         \n",
    "\n",
    "    if embedding_type == 'distribution':     \n",
    "        if len(embeddings_final) > 1:\n",
    "            embeddings_final = torch.cat(embeddings_final)\n",
    "            user_embeddings[author] = embeddings_final.mean(axis=0).numpy()\n",
    "        else:\n",
    "            user_embeddings[author] = embeddings_final[0].squeeze().numpy()\n",
    "    elif embedding_type == 'prediction':\n",
    "        user_embeddings[author] = embeddings_final / size\n",
    "    else:\n",
    "        raise Exception(\"Wrong embedding type\")\n",
    "        "
   ]
  },
  {
   "cell_type": "code",
   "execution_count": 70,
   "metadata": {},
   "outputs": [],
   "source": [
    "with open('user_attribution_prediction.pickle', 'wb') as handle:\n",
    "    pickle.dump(user_embeddings, handle, protocol=pickle.HIGHEST_PROTOCOL)"
   ]
  },
  {
   "cell_type": "code",
   "execution_count": null,
   "metadata": {},
   "outputs": [],
   "source": []
  }
 ],
 "metadata": {
  "accelerator": "GPU",
  "colab": {
   "collapsed_sections": [],
   "name": "2LL Network.ipynb",
   "provenance": []
  },
  "gpuClass": "standard",
  "kernelspec": {
   "display_name": "Python 3 (ipykernel)",
   "language": "python",
   "name": "python3"
  },
  "language_info": {
   "codemirror_mode": {
    "name": "ipython",
    "version": 3
   },
   "file_extension": ".py",
   "mimetype": "text/x-python",
   "name": "python",
   "nbconvert_exporter": "python",
   "pygments_lexer": "ipython3",
   "version": "3.8.10"
  }
 },
 "nbformat": 4,
 "nbformat_minor": 1
}
